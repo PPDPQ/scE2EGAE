{
 "cells": [
  {
   "cell_type": "code",
   "execution_count": 1,
   "id": "822095c3",
   "metadata": {},
   "outputs": [],
   "source": [
    "import math\n",
    "import torch\n",
    "import torch.nn as nn\n",
    "import torch.nn.functional as F\n",
    "from torch.nn import Module, ModuleList, Sequential\n",
    "import torch_geometric\n",
    "from torch_geometric.nn import EdgeConv, DenseGCNConv, DenseGraphConv, GCNConv, GATConv\n",
    "from torch.utils.data import DataLoader\n",
    "import torch_scatter\n",
    "from torch_geometric.data import Data\n",
    "\n",
    "import numpy as np\n",
    "import os"
   ]
  },
  {
   "cell_type": "markdown",
   "id": "5aee0e33",
   "metadata": {},
   "source": [
    "## Layers"
   ]
  },
  {
   "cell_type": "code",
   "execution_count": 2,
   "id": "44315431",
   "metadata": {},
   "outputs": [],
   "source": [
    "def layer(layer_type, **kwargs):\n",
    "    if layer_type == 'GCNConv':\n",
    "        return GraphConvolution(in_features=kwargs['in_channels'], out_features=kwargs['out_channels'])\n",
    "    elif layer_type == 'GATConv':\n",
    "        return MultiHeadAttentionLayer(in_features=kwargs['in_channels'], out_features=kwargs['out_channels'],\n",
    "                                       heads=kwargs['heads'], concat=kwargs['concat'])"
   ]
  },
  {
   "cell_type": "code",
   "execution_count": 3,
   "id": "115c422e",
   "metadata": {},
   "outputs": [],
   "source": [
    "class GraphConvolution(torch.nn.Module):\n",
    "\n",
    "    def __init__(self, in_features, out_features, bias=True):\n",
    "        super(GraphConvolution, self).__init__()\n",
    "        self.in_features = in_features\n",
    "        self.out_features = out_features\n",
    "        self.weight = nn.Parameter(torch.FloatTensor(in_features, out_features))\n",
    "        if bias:\n",
    "            self.bias = nn.Parameter(torch.FloatTensor(out_features))\n",
    "        else:\n",
    "            self.register_parameter('bias', None)\n",
    "        self.reset_parameters()\n",
    "\n",
    "    def reset_parameters(self):\n",
    "        stdv = 1. / math.sqrt(self.weight.size(1))\n",
    "        self.weight.data.uniform_(-stdv, stdv)\n",
    "        if self.bias is not None:\n",
    "            self.bias.data.uniform_(-stdv, stdv)\n",
    "\n",
    "    def forward(self, input, adj):\n",
    "        support = torch.mm(input, self.weight)\n",
    "        output = torch.spmm(adj, support)\n",
    "        if self.bias is not None:\n",
    "            return output + self.bias\n",
    "        else:\n",
    "            return output\n",
    "\n",
    "    def __repr__(self):\n",
    "        return self.__class__.__name__ + ' (' \\\n",
    "               + str(self.in_features) + ' -> ' \\\n",
    "               + str(self.out_features) + ')'"
   ]
  },
  {
   "cell_type": "code",
   "execution_count": 4,
   "id": "482aa93d",
   "metadata": {},
   "outputs": [],
   "source": [
    "class GraphAttentionLayer(nn.Module):\n",
    "    \"\"\"\n",
    "    Simple GAT layer, similar to https://arxiv.org/abs/1710.10903\n",
    "    \"\"\"\n",
    "\n",
    "    def __init__(self, in_features, out_features, dropout=0.6, alpha=0.2, concat=True):\n",
    "        super(GraphAttentionLayer, self).__init__()\n",
    "        self.dropout = dropout\n",
    "        self.in_features = in_features\n",
    "        self.out_features = out_features\n",
    "        self.alpha = alpha\n",
    "        self.concat = concat\n",
    "\n",
    "        self.W = nn.Parameter(torch.empty(size=(in_features, out_features)))\n",
    "        nn.init.xavier_uniform_(self.W.data, gain=1.414)\n",
    "        self.a = nn.Parameter(torch.empty(size=(2 * out_features, 1)))\n",
    "        nn.init.xavier_uniform_(self.a.data, gain=1.414)\n",
    "\n",
    "        self.leakyrelu = nn.LeakyReLU(self.alpha)\n",
    "\n",
    "    def forward(self, h, adj):\n",
    "        Wh = torch.mm(h, self.W)  # h.shape: (N, in_features), Wh.shape: (N, out_features)\n",
    "        e = self._prepare_attentional_mechanism_input(Wh)\n",
    "\n",
    "        zero_vec = -9e15 * torch.ones_like(e)\n",
    "        attention = torch.where(adj > 0, e, zero_vec)\n",
    "        attention = F.softmax(attention, dim=1)\n",
    "        attention = F.dropout(attention, self.dropout, training=self.training)\n",
    "        h_prime = torch.matmul(attention, Wh)\n",
    "\n",
    "        if self.concat:\n",
    "            return F.elu(h_prime)\n",
    "        else:\n",
    "            return h_prime\n",
    "\n",
    "    def _prepare_attentional_mechanism_input(self, Wh):\n",
    "        # Wh.shape (N, out_feature)\n",
    "        # self.a.shape (2 * out_feature, 1)\n",
    "        # Wh1&2.shape (N, 1)\n",
    "        # e.shape (N, N)\n",
    "        Wh1 = torch.matmul(Wh, self.a[:self.out_features, :])\n",
    "        Wh2 = torch.matmul(Wh, self.a[self.out_features:, :])\n",
    "        # broadcast add\n",
    "        e = Wh1 + Wh2.T\n",
    "        return self.leakyrelu(e)\n",
    "\n",
    "    def __repr__(self):\n",
    "        return self.__class__.__name__ + ' (' + str(self.in_features) + ' -> ' + str(self.out_features) + ')'"
   ]
  },
  {
   "cell_type": "code",
   "execution_count": 5,
   "id": "965b7c6d",
   "metadata": {},
   "outputs": [],
   "source": [
    "class MultiHeadAttentionLayer(nn.Module):\n",
    "    def __init__(self, in_features, out_features, heads, concat=True):\n",
    "        super(MultiHeadAttentionLayer, self).__init__()\n",
    "        self.in_features = in_features\n",
    "        self.out_features = out_features\n",
    "        self.attentions = [GraphAttentionLayer(in_features, out_features, concat=concat) for _ in range(heads)]\n",
    "        for i, attention in enumerate(self.attentions):\n",
    "            self.add_module('attention_{}'.format(i), attention)\n",
    "\n",
    "    def forward(self, x, adj):\n",
    "        x = torch.cat([torch.unsqueeze(att(x, adj), 0) for att in self.attentions])\n",
    "        x = torch.mean(x, dim=0)\n",
    "        return x\n",
    "\n",
    "    def __repr__(self):\n",
    "        return self.__class__.__name__ + ' (' + str(self.in_features) + ' -> ' + str(self.out_features) + ')'\n"
   ]
  },
  {
   "cell_type": "markdown",
   "id": "ab812be2",
   "metadata": {},
   "source": [
    "## Model"
   ]
  },
  {
   "cell_type": "code",
   "execution_count": 6,
   "id": "89319134",
   "metadata": {},
   "outputs": [],
   "source": [
    "class GNNImpute(torch.nn.Module):\n",
    "    def __init__(self, input_dim, h_dim=512, z_dim=50, layerType='GATConv', heads=3):\n",
    "        super(GNNImpute, self).__init__()\n",
    "\n",
    "        #### Encoder ####\n",
    "        self.encode_conv1 = layer(layerType, in_channels=input_dim, out_channels=h_dim,\n",
    "                                  heads=heads, concat=False)\n",
    "        self.encode_bn1 = torch.nn.BatchNorm1d(h_dim)\n",
    "\n",
    "        self.encode_conv2 = layer(layerType, in_channels=h_dim, out_channels=z_dim,\n",
    "                                  heads=heads, concat=False)\n",
    "        self.encode_bn2 = torch.nn.BatchNorm1d(z_dim)\n",
    "\n",
    "        #### Decoder ####\n",
    "        self.decode_linear1 = torch.nn.Linear(z_dim, h_dim)\n",
    "        self.decode_bn1 = torch.nn.BatchNorm1d(h_dim)\n",
    "\n",
    "        self.decode_linear2 = torch.nn.Linear(h_dim, input_dim)\n",
    "\n",
    "    def encode(self, x, edge_index):\n",
    "        x = F.relu(self.encode_bn1(self.encode_conv1(x, edge_index)))\n",
    "        x = F.dropout(x, p=0.5, training=self.training)\n",
    "\n",
    "        x = F.relu(self.encode_bn2(self.encode_conv2(x, edge_index)))\n",
    "        x = F.dropout(x, p=0.5, training=self.training)\n",
    "\n",
    "        return x\n",
    "\n",
    "    def decode(self, x):\n",
    "        x = F.relu(self.decode_bn1(self.decode_linear1(x)))\n",
    "        x = F.relu(self.decode_linear2(x))\n",
    "\n",
    "        return x\n",
    "\n",
    "    def forward(self, x, edge_index, size_factors):\n",
    "        z = self.encode(x, edge_index)\n",
    "        x = self.decode(z)\n",
    "        #x = x * size_factors\n",
    "        return x"
   ]
  },
  {
   "cell_type": "markdown",
   "id": "2f5b66bb",
   "metadata": {},
   "source": [
    "## Utils"
   ]
  },
  {
   "cell_type": "code",
   "execution_count": 7,
   "id": "82faad8d",
   "metadata": {},
   "outputs": [],
   "source": [
    "import numpy as np\n",
    "import scanpy as sc\n",
    "import scipy.sparse as sp\n",
    "\n",
    "from sklearn.decomposition import PCA\n",
    "from sklearn.neighbors import kneighbors_graph"
   ]
  },
  {
   "cell_type": "code",
   "execution_count": 8,
   "id": "3ebbde94",
   "metadata": {},
   "outputs": [],
   "source": [
    "def normalize(adata, filter_min_counts=True, size_factors=True, normalize_input=True, logtrans_input=True):\n",
    "    if filter_min_counts:\n",
    "        sc.pp.filter_genes(adata, min_counts=1)\n",
    "        sc.pp.filter_cells(adata, min_counts=1)\n",
    "\n",
    "    # if size_factors or normalize_input or logtrans_input:\n",
    "    #     adata.raw = adata.copy()\n",
    "    # else:\n",
    "    #     adata.raw = adata\n",
    "\n",
    "    if size_factors:\n",
    "        sc.pp.normalize_per_cell(adata)\n",
    "        adata.obs['size_factors'] = adata.obs.n_counts / np.median(adata.obs.n_counts)\n",
    "    else:\n",
    "        adata.obs['size_factors'] = 1.0\n",
    "\n",
    "    if logtrans_input:\n",
    "        sc.pp.log1p(adata)\n",
    "\n",
    "    if normalize_input:\n",
    "        sc.pp.scale(adata)\n",
    "\n",
    "    return adata"
   ]
  },
  {
   "cell_type": "code",
   "execution_count": 14,
   "id": "4a26425d",
   "metadata": {},
   "outputs": [],
   "source": [
    "def train_val_split(adata, seed=321, train_size=0.8, val_size=0.1, test_size=0.1):\n",
    "    assert train_size + val_size + test_size == 1\n",
    "\n",
    "    adata = adata.copy()\n",
    "    np.random.seed(seed)\n",
    "\n",
    "    cell_nums = adata.n_obs\n",
    "    test_val = np.random.choice(cell_nums, int(cell_nums * (val_size + test_size)), replace=False)\n",
    "    idx_train = [i for i in list(range(cell_nums)) if i not in test_val]\n",
    "    idx_test = np.random.choice(test_val, int(len(test_val) * (test_size / (val_size + test_size))), replace=False)\n",
    "    idx_val = [i for i in test_val if i not in idx_test]\n",
    "\n",
    "    tmp = np.zeros(cell_nums, dtype=bool)\n",
    "    tmp[idx_train] = True\n",
    "    adata.obs['idx_train'] = tmp\n",
    "    tmp = np.zeros(cell_nums, dtype=bool)\n",
    "    tmp[idx_val] = True\n",
    "    adata.obs['idx_val'] = tmp\n",
    "    tmp = np.zeros(cell_nums, dtype=bool)\n",
    "    tmp[idx_test] = True\n",
    "    adata.obs['idx_test'] = tmp\n",
    "\n",
    "    return adata"
   ]
  },
  {
   "cell_type": "code",
   "execution_count": 15,
   "id": "b7b94938",
   "metadata": {},
   "outputs": [],
   "source": [
    "def row_normalize(mx):\n",
    "    \"\"\"Row-normalize sparse matrix\"\"\"\n",
    "\n",
    "    rowsum = np.array(mx.sum(1))\n",
    "    r_inv = np.power(rowsum, -1).flatten()\n",
    "    r_inv[np.isinf(r_inv)] = 0.\n",
    "    r_mat_inv = sp.diags(r_inv)\n",
    "    mx = r_mat_inv.dot(mx)\n",
    "    return mx\n",
    "\n",
    "\n",
    "def kneighbor(adata, n_components=50, k=5):\n",
    "    pca = PCA(n_components=n_components)\n",
    "    data_pca = pca.fit_transform(adata.X)\n",
    "\n",
    "    A = kneighbors_graph(data_pca, k, mode='connectivity', include_self=True)\n",
    "\n",
    "    return row_normalize(A)\n",
    "\n",
    "\n",
    "def adata2gdata(adata, use_raw=True):\n",
    "    adj = kneighbor(adata, n_components=50, k=5)\n",
    "\n",
    "    adj = torch.tensor(adj.A, dtype=torch.float)\n",
    "    features = torch.tensor(adata.X, dtype=torch.float)\n",
    "    labels = torch.tensor(adata.X, dtype=torch.float)\n",
    "    size_factors = torch.tensor(adata.obs.size_factors, dtype=torch.float).reshape(-1, 1)\n",
    "    if use_raw:\n",
    "        labels = torch.tensor(adata.raw.X.A, dtype=torch.float)\n",
    "\n",
    "    train_mask = torch.tensor(adata.obs.idx_train, dtype=torch.bool)\n",
    "    val_mask = torch.tensor(adata.obs.idx_val, dtype=torch.bool)\n",
    "\n",
    "    return {\n",
    "        'x': features,\n",
    "        'y': labels,\n",
    "        'size_factors': size_factors,\n",
    "        'adj': adj,\n",
    "        'train_mask': train_mask,\n",
    "        'val_mask': val_mask\n",
    "    }"
   ]
  },
  {
   "cell_type": "markdown",
   "id": "52129230",
   "metadata": {},
   "source": [
    "## Train"
   ]
  },
  {
   "cell_type": "code",
   "execution_count": 16,
   "id": "c60809a8",
   "metadata": {},
   "outputs": [],
   "source": [
    "import os\n",
    "import time\n",
    "import glob\n",
    "import torch"
   ]
  },
  {
   "cell_type": "code",
   "execution_count": 17,
   "id": "edbc76c1",
   "metadata": {},
   "outputs": [],
   "source": [
    "from copy import deepcopy\n",
    "def train(gdata, model,\n",
    "          no_cuda=False,\n",
    "          epochs=3000,\n",
    "          lr=0.001,\n",
    "          weight_decay=0.0005,\n",
    "          patience=200,\n",
    "          fastmode=False,\n",
    "          verbose=True):\n",
    "    device = torch.device('cuda' if torch.cuda.is_available() and not no_cuda else 'cpu')\n",
    "\n",
    "    model = model.to(device)\n",
    "    optimizer = torch.optim.Adam(model.parameters(), lr=lr, weight_decay=weight_decay)\n",
    "    lossFunc = torch.nn.MSELoss(reduction='mean')\n",
    "    for key in gdata.keys():\n",
    "        gdata[key] = gdata[key].to(device)\n",
    "\n",
    "    def train_wrapper(epoch):\n",
    "        model.train()\n",
    "        optimizer.zero_grad()\n",
    "\n",
    "        pred = model(gdata['x'], gdata['adj'], gdata['size_factors'])\n",
    "\n",
    "        dropout_pred = pred[gdata['train_mask']]\n",
    "        dropout_true = gdata['y'][gdata['train_mask']]\n",
    "\n",
    "        loss_train = lossFunc(dropout_pred, dropout_true)\n",
    "\n",
    "        loss_train.backward()\n",
    "        optimizer.step()\n",
    "\n",
    "        if not fastmode:\n",
    "            model.eval()\n",
    "            pred = model(gdata['x'], gdata['adj'], gdata['size_factors'])\n",
    "\n",
    "        dropout_pred = pred[gdata['val_mask']]\n",
    "        dropout_true = gdata['y'][gdata['val_mask']]\n",
    "\n",
    "        loss_val = lossFunc(dropout_pred, dropout_true)\n",
    "\n",
    "        if (epoch + 1) % 10 == 0 and verbose:\n",
    "            print('Epoch: {:04d}'.format(epoch + 1),\n",
    "                  'loss_train: {:.4f}'.format(loss_train.data.item()),\n",
    "                  'loss_val: {:.4f}'.format(loss_val.data.item()))\n",
    "\n",
    "        return loss_val.data.item()\n",
    "\n",
    "    t_total = time.time()\n",
    "    loss_values = []\n",
    "    bad_counter = 0\n",
    "    best = float('inf')\n",
    "    best_epoch = 0\n",
    "    best_model_state_dict = None  # store the best model's state_dict\n",
    "\n",
    "    for epoch in range(epochs):\n",
    "        loss_values.append(train_wrapper(epoch))\n",
    "\n",
    "        if loss_values[-1] < best:\n",
    "            best = loss_values[-1]\n",
    "            best_epoch = epoch\n",
    "            best_model_state_dict = deepcopy(model.state_dict())  # Save the best model's state_dict\n",
    "            bad_counter = 0\n",
    "        else:\n",
    "            bad_counter += 1\n",
    "\n",
    "        if bad_counter == patience:\n",
    "            break\n",
    "\n",
    "    print('Total time elapsed: {:.4f}s'.format(time.time() - t_total))\n",
    "\n",
    "    # Restore best model\n",
    "    model.load_state_dict(best_model_state_dict)\n",
    "    torch.save(model.state_dict(), 'best_model.pkl')  # Save the best model"
   ]
  },
  {
   "cell_type": "markdown",
   "id": "19866647",
   "metadata": {},
   "source": [
    "## Pipeline KNN with GNN"
   ]
  },
  {
   "cell_type": "code",
   "execution_count": 18,
   "id": "80980b2c",
   "metadata": {},
   "outputs": [],
   "source": [
    "import numpy as np\n",
    "import scanpy as sc\n",
    "from scipy import sparse\n",
    "\n",
    "from sklearn.cluster import KMeans\n",
    "from sklearn.metrics import mean_squared_error, mean_absolute_error\n",
    "from sklearn.metrics.cluster import adjusted_rand_score, normalized_mutual_info_score\n",
    "from scipy.stats import pearsonr\n",
    "from sklearn.metrics.pairwise import cosine_similarity"
   ]
  },
  {
   "cell_type": "code",
   "execution_count": 19,
   "id": "5fe0ba6b",
   "metadata": {},
   "outputs": [],
   "source": [
    "def GNNImpute_Pipe(adata,\n",
    "              layer='GATConv',\n",
    "              no_cuda=False,\n",
    "              epochs=1000,\n",
    "              lr=0.003,\n",
    "              weight_decay=0.0005,\n",
    "              hidden=50,\n",
    "              patience=1000,\n",
    "              fastmode=False,\n",
    "              heads=3,\n",
    "              use_raw=True,\n",
    "              verbose=True):\n",
    "    input_dim = adata.n_vars\n",
    "\n",
    "    model = GNNImpute(input_dim=input_dim, h_dim=512, z_dim=hidden, layerType=layer, heads=heads)\n",
    "\n",
    "    adata = normalize(adata, filter_min_counts=False)\n",
    "    adata = train_val_split(adata)\n",
    "    gdata = adata2gdata(adata, use_raw=use_raw)\n",
    "\n",
    "    train(gdata=gdata, model=model, no_cuda=no_cuda, epochs=epochs, lr=lr, weight_decay=weight_decay,\n",
    "          patience=patience, fastmode=fastmode, verbose=verbose)\n",
    "\n",
    "    pred = model(gdata['x'], gdata['adj'], gdata['size_factors'])\n",
    "\n",
    "    adata.X = pred.detach().cpu()\n",
    "\n",
    "    return adata"
   ]
  },
  {
   "cell_type": "code",
   "execution_count": 37,
   "id": "e1cf01d1",
   "metadata": {},
   "outputs": [],
   "source": [
    "adata = sc.read_h5ad('./data/Klein/masked/Klein_01.h5ad')"
   ]
  },
  {
   "cell_type": "code",
   "execution_count": 38,
   "id": "17965356",
   "metadata": {},
   "outputs": [],
   "source": [
    "maskIndex = sparse.load_npz('./data/Klein/masked/Klein_maskIndex_01.csv.npz')"
   ]
  },
  {
   "cell_type": "code",
   "execution_count": 22,
   "id": "f33d0a29",
   "metadata": {},
   "outputs": [
    {
     "data": {
      "text/plain": [
       "<2713x24021 sparse matrix of type '<class 'numpy.int32'>'\n",
       "\twith 2230273 stored elements in COOrdinate format>"
      ]
     },
     "execution_count": 22,
     "metadata": {},
     "output_type": "execute_result"
    }
   ],
   "source": [
    "maskIndex"
   ]
  },
  {
   "cell_type": "code",
   "execution_count": 23,
   "id": "9d48287d",
   "metadata": {},
   "outputs": [],
   "source": [
    "#adata = normalize(adata, filter_min_counts=False)"
   ]
  },
  {
   "cell_type": "code",
   "execution_count": 24,
   "id": "feb402af",
   "metadata": {},
   "outputs": [],
   "source": [
    "#len(np.where(adata.X==0)[0])"
   ]
  },
  {
   "cell_type": "code",
   "execution_count": 25,
   "id": "b83eba3b",
   "metadata": {},
   "outputs": [],
   "source": [
    "def pearsonr_error(y, h):\n",
    "    res = []\n",
    "    if len(y.shape) < 2:\n",
    "        y = y.reshape((1, -1))\n",
    "        h = h.reshape((1, -1))\n",
    "\n",
    "    for i in range(y.shape[0]):\n",
    "        res.append(pearsonr(y[i], h[i])[0])\n",
    "    return np.mean(res)\n",
    "\n",
    "\n",
    "def cosine_similarity_score(y, h):\n",
    "    if len(y.shape) < 2:\n",
    "        y = y.reshape((1, -1))\n",
    "        h = h.reshape((1, -1))\n",
    "    cos = cosine_similarity(y, h)\n",
    "    res = []\n",
    "    for i in range(len(cos)):\n",
    "        res.append(cos[i][i])\n",
    "    return np.mean(res)"
   ]
  },
  {
   "cell_type": "code",
   "execution_count": 39,
   "id": "a48a5ab6",
   "metadata": {},
   "outputs": [
    {
     "name": "stdout",
     "output_type": "stream",
     "text": [
      "Epoch: 0010 loss_train: 9.1891 loss_val: 10.8547\n",
      "Epoch: 0020 loss_train: 8.1971 loss_val: 10.0626\n",
      "Epoch: 0030 loss_train: 7.2642 loss_val: 8.8145\n",
      "Epoch: 0040 loss_train: 6.3942 loss_val: 7.5329\n",
      "Epoch: 0050 loss_train: 5.6561 loss_val: 6.6132\n",
      "Epoch: 0060 loss_train: 5.0968 loss_val: 6.0642\n",
      "Epoch: 0070 loss_train: 4.6753 loss_val: 5.5834\n",
      "Epoch: 0080 loss_train: 4.3611 loss_val: 5.3256\n",
      "Epoch: 0090 loss_train: 4.0997 loss_val: 5.0932\n",
      "Epoch: 0100 loss_train: 3.8819 loss_val: 4.9084\n",
      "Epoch: 0110 loss_train: 3.7197 loss_val: 4.7755\n",
      "Epoch: 0120 loss_train: 3.5775 loss_val: 4.6769\n",
      "Epoch: 0130 loss_train: 3.4599 loss_val: 4.5460\n",
      "Epoch: 0140 loss_train: 3.3815 loss_val: 4.4546\n",
      "Epoch: 0150 loss_train: 3.3000 loss_val: 4.4021\n",
      "Epoch: 0160 loss_train: 3.2420 loss_val: 4.3376\n",
      "Epoch: 0170 loss_train: 3.1926 loss_val: 4.3055\n",
      "Epoch: 0180 loss_train: 3.1495 loss_val: 4.2377\n",
      "Epoch: 0190 loss_train: 3.1099 loss_val: 4.2225\n",
      "Epoch: 0200 loss_train: 3.0789 loss_val: 4.1700\n",
      "Epoch: 0210 loss_train: 3.0493 loss_val: 4.1558\n",
      "Epoch: 0220 loss_train: 3.0209 loss_val: 4.1579\n",
      "Epoch: 0230 loss_train: 2.9840 loss_val: 4.1157\n",
      "Epoch: 0240 loss_train: 2.9416 loss_val: 4.0937\n",
      "Epoch: 0250 loss_train: 2.8959 loss_val: 4.0393\n",
      "Epoch: 0260 loss_train: 2.8649 loss_val: 4.0215\n",
      "Epoch: 0270 loss_train: 2.8385 loss_val: 3.9871\n",
      "Epoch: 0280 loss_train: 2.8055 loss_val: 3.9455\n",
      "Epoch: 0290 loss_train: 2.7937 loss_val: 3.9337\n",
      "Epoch: 0300 loss_train: 2.7739 loss_val: 3.8977\n",
      "Epoch: 0310 loss_train: 2.7448 loss_val: 3.8992\n",
      "Epoch: 0320 loss_train: 2.7350 loss_val: 3.8626\n",
      "Epoch: 0330 loss_train: 2.7176 loss_val: 3.8610\n",
      "Epoch: 0340 loss_train: 2.7171 loss_val: 3.8410\n",
      "Epoch: 0350 loss_train: 2.7093 loss_val: 3.8229\n",
      "Epoch: 0360 loss_train: 2.6982 loss_val: 3.7976\n",
      "Epoch: 0370 loss_train: 2.6873 loss_val: 3.8080\n",
      "Epoch: 0380 loss_train: 2.6898 loss_val: 3.8430\n",
      "Epoch: 0390 loss_train: 2.6853 loss_val: 3.8205\n",
      "Epoch: 0400 loss_train: 2.6840 loss_val: 3.8057\n",
      "Epoch: 0410 loss_train: 2.6797 loss_val: 3.8075\n",
      "Epoch: 0420 loss_train: 2.6716 loss_val: 3.8037\n",
      "Epoch: 0430 loss_train: 2.6680 loss_val: 3.7841\n",
      "Epoch: 0440 loss_train: 2.6657 loss_val: 3.7856\n",
      "Epoch: 0450 loss_train: 2.6580 loss_val: 3.8310\n",
      "Epoch: 0460 loss_train: 2.6611 loss_val: 3.7892\n",
      "Epoch: 0470 loss_train: 2.6644 loss_val: 3.7992\n",
      "Epoch: 0480 loss_train: 2.6608 loss_val: 3.7666\n",
      "Epoch: 0490 loss_train: 2.6500 loss_val: 3.7746\n",
      "Epoch: 0500 loss_train: 2.6637 loss_val: 3.7438\n",
      "Epoch: 0510 loss_train: 2.6483 loss_val: 3.7820\n",
      "Epoch: 0520 loss_train: 2.6511 loss_val: 3.7865\n",
      "Epoch: 0530 loss_train: 2.6554 loss_val: 3.7723\n",
      "Epoch: 0540 loss_train: 2.6449 loss_val: 3.7800\n",
      "Epoch: 0550 loss_train: 2.6441 loss_val: 3.8281\n",
      "Epoch: 0560 loss_train: 2.6407 loss_val: 3.7711\n",
      "Epoch: 0570 loss_train: 2.6445 loss_val: 3.7316\n",
      "Epoch: 0580 loss_train: 2.6331 loss_val: 3.7490\n",
      "Epoch: 0590 loss_train: 2.6331 loss_val: 3.7010\n",
      "Epoch: 0600 loss_train: 2.6130 loss_val: 3.7202\n",
      "Epoch: 0610 loss_train: 2.6342 loss_val: 3.7148\n",
      "Epoch: 0620 loss_train: 2.6106 loss_val: 3.6904\n",
      "Epoch: 0630 loss_train: 2.6286 loss_val: 3.6495\n",
      "Epoch: 0640 loss_train: 2.6037 loss_val: 3.7642\n",
      "Epoch: 0650 loss_train: 2.6256 loss_val: 3.7777\n",
      "Epoch: 0660 loss_train: 2.5684 loss_val: 3.7479\n",
      "Epoch: 0670 loss_train: 2.6230 loss_val: 3.7072\n",
      "Epoch: 0680 loss_train: 2.5713 loss_val: 3.6438\n",
      "Epoch: 0690 loss_train: 2.5632 loss_val: 3.6771\n",
      "Epoch: 0700 loss_train: 2.5476 loss_val: 3.6374\n",
      "Epoch: 0710 loss_train: 2.5364 loss_val: 3.6137\n",
      "Epoch: 0720 loss_train: 2.6123 loss_val: 3.6124\n",
      "Epoch: 0730 loss_train: 2.5593 loss_val: 3.5474\n",
      "Epoch: 0740 loss_train: 2.5187 loss_val: 3.6057\n",
      "Epoch: 0750 loss_train: 2.5989 loss_val: 3.4324\n",
      "Epoch: 0760 loss_train: 2.5355 loss_val: 3.4889\n",
      "Epoch: 0770 loss_train: 2.6304 loss_val: 3.6554\n",
      "Epoch: 0780 loss_train: 2.6054 loss_val: 3.4987\n",
      "Epoch: 0790 loss_train: 2.5338 loss_val: 3.4450\n",
      "Epoch: 0800 loss_train: 2.5142 loss_val: 3.5833\n",
      "Epoch: 0810 loss_train: 2.5707 loss_val: 3.6611\n",
      "Epoch: 0820 loss_train: 2.5649 loss_val: 3.7528\n",
      "Epoch: 0830 loss_train: 2.5694 loss_val: 3.5079\n",
      "Epoch: 0840 loss_train: 2.5138 loss_val: 3.4539\n",
      "Epoch: 0850 loss_train: 2.6105 loss_val: 3.7829\n",
      "Epoch: 0860 loss_train: 2.6589 loss_val: 3.7976\n",
      "Epoch: 0870 loss_train: 2.5099 loss_val: 3.7109\n",
      "Epoch: 0880 loss_train: 2.5553 loss_val: 3.7443\n",
      "Epoch: 0890 loss_train: 2.6413 loss_val: 3.7426\n",
      "Epoch: 0900 loss_train: 2.5845 loss_val: 3.7397\n",
      "Epoch: 0910 loss_train: 2.5062 loss_val: 3.6991\n",
      "Epoch: 0920 loss_train: 2.6201 loss_val: 3.5709\n",
      "Epoch: 0930 loss_train: 2.5409 loss_val: 3.5704\n",
      "Epoch: 0940 loss_train: 2.5691 loss_val: 3.6284\n",
      "Epoch: 0950 loss_train: 2.6150 loss_val: 3.6812\n",
      "Total time elapsed: 130.6476s\n",
      "CPU times: total: 2min 21s\n",
      "Wall time: 2min 13s\n"
     ]
    }
   ],
   "source": [
    "%%time\n",
    "adata = GNNImpute_Pipe(adata=adata,\n",
    "                  layer='GATConv',\n",
    "                  no_cuda=False,\n",
    "                  epochs=3000,\n",
    "                  lr=0.001,\n",
    "                  weight_decay=0.0005,\n",
    "                  hidden=64,\n",
    "                  patience=200,\n",
    "                  fastmode=False,\n",
    "                  heads=3,\n",
    "                  use_raw=True,\n",
    "                  verbose=True)"
   ]
  },
  {
   "cell_type": "code",
   "execution_count": 40,
   "id": "b804f138",
   "metadata": {},
   "outputs": [],
   "source": [
    "dropout_pred = adata.X[adata.obs.idx_test]\n",
    "dropout_true = adata.raw.X.A[adata.obs.idx_test]"
   ]
  },
  {
   "cell_type": "code",
   "execution_count": 41,
   "id": "3a799b61",
   "metadata": {},
   "outputs": [],
   "source": [
    "masking_row_test, masking_col_test = np.where(maskIndex.A[adata.obs.idx_test, :] > 0)"
   ]
  },
  {
   "cell_type": "code",
   "execution_count": 42,
   "id": "ee1620aa",
   "metadata": {},
   "outputs": [],
   "source": [
    "y = dropout_true[masking_row_test, masking_col_test]\n",
    "h = dropout_pred[masking_row_test, masking_col_test]"
   ]
  },
  {
   "cell_type": "code",
   "execution_count": 43,
   "id": "54308345",
   "metadata": {},
   "outputs": [
    {
     "data": {
      "text/plain": [
       "224763"
      ]
     },
     "execution_count": 43,
     "metadata": {},
     "output_type": "execute_result"
    }
   ],
   "source": [
    "len(y)"
   ]
  },
  {
   "cell_type": "code",
   "execution_count": 44,
   "id": "86a02c51",
   "metadata": {},
   "outputs": [],
   "source": [
    "mse = float('%.4f' % mean_squared_error(y, h))\n",
    "mae = float('%.4f' % mean_absolute_error(y, h))\n",
    "pcc = float('%.4f' % pearsonr_error(y, h))\n",
    "cs = float('%.4f' % cosine_similarity_score(y, h))"
   ]
  },
  {
   "cell_type": "code",
   "execution_count": 45,
   "id": "d28807ad",
   "metadata": {},
   "outputs": [],
   "source": [
    "clusters = adata.obs.cluster.values"
   ]
  },
  {
   "cell_type": "code",
   "execution_count": 46,
   "id": "894d1b20",
   "metadata": {},
   "outputs": [],
   "source": [
    "adata_pred = sc.AnnData(adata.X)"
   ]
  },
  {
   "cell_type": "code",
   "execution_count": 47,
   "id": "ba2d12ae",
   "metadata": {},
   "outputs": [
    {
     "name": "stdout",
     "output_type": "stream",
     "text": [
      "(2713, 2000)\n"
     ]
    },
    {
     "name": "stderr",
     "output_type": "stream",
     "text": [
      "D:\\Anaconda3\\envs\\pytorch\\lib\\site-packages\\scanpy\\preprocessing\\_simple.py:843: UserWarning: Received a view of an AnnData. Making a copy.\n",
      "  view_to_actual(adata)\n"
     ]
    }
   ],
   "source": [
    "sc.pp.normalize_total(adata_pred)\n",
    "sc.pp.log1p(adata_pred)\n",
    "sc.pp.highly_variable_genes(adata_pred, n_top_genes=2000)\n",
    "adata_pred = adata_pred[:, adata_pred.var.highly_variable]\n",
    "print(adata_pred.X.shape)\n",
    "sc.pp.scale(adata_pred, max_value=10)"
   ]
  },
  {
   "cell_type": "code",
   "execution_count": 48,
   "id": "45d5b297",
   "metadata": {},
   "outputs": [],
   "source": [
    "kmeans = KMeans(n_clusters=len(set(clusters))).fit(adata_pred.X)\n",
    "ari = float('%.4f' % adjusted_rand_score(clusters, kmeans.labels_))\n",
    "nmi = float('%.4f' % normalized_mutual_info_score(clusters, kmeans.labels_))"
   ]
  },
  {
   "cell_type": "code",
   "execution_count": 49,
   "id": "bd295c56",
   "metadata": {},
   "outputs": [
    {
     "name": "stdout",
     "output_type": "stream",
     "text": [
      "7.443 1.0676 0.8722 0.8832 0.8126 0.824\n"
     ]
    }
   ],
   "source": [
    "print(mse, mae, pcc, cs, ari, nmi)"
   ]
  },
  {
   "cell_type": "code",
   "execution_count": 66,
   "id": "7a2b758b",
   "metadata": {},
   "outputs": [],
   "source": [
    "kmeans = KMeans(n_clusters=len(set(clusters))).fit(adata.raw.X.A)\n",
    "ari = float('%.4f' % adjusted_rand_score(clusters, kmeans.labels_))\n",
    "nmi = float('%.4f' % normalized_mutual_info_score(clusters, kmeans.labels_))"
   ]
  },
  {
   "cell_type": "code",
   "execution_count": 67,
   "id": "611d8656",
   "metadata": {},
   "outputs": [
    {
     "name": "stdout",
     "output_type": "stream",
     "text": [
      "0.8156 0.8278\n"
     ]
    }
   ],
   "source": [
    "print(ari, nmi)"
   ]
  },
  {
   "cell_type": "code",
   "execution_count": 57,
   "id": "1d379a6c",
   "metadata": {},
   "outputs": [
    {
     "data": {
      "text/plain": [
       "(135, 24021)"
      ]
     },
     "execution_count": 57,
     "metadata": {},
     "output_type": "execute_result"
    }
   ],
   "source": [
    "adata.X[adata.obs.idx_test].shape"
   ]
  },
  {
   "cell_type": "code",
   "execution_count": 58,
   "id": "de3765cb",
   "metadata": {},
   "outputs": [],
   "source": [
    "train_mask = torch.tensor(adata.obs.idx_train, dtype=torch.bool)"
   ]
  },
  {
   "cell_type": "code",
   "execution_count": 59,
   "id": "1de212e0",
   "metadata": {},
   "outputs": [
    {
     "data": {
      "text/plain": [
       "array([[0.254718  , 0.43379948, 0.29105434, ..., 0.05714053, 0.9323367 ,\n",
       "        0.00160042],\n",
       "       [0.25031754, 0.44435608, 0.29354843, ..., 0.06114556, 0.93941134,\n",
       "        0.00199095],\n",
       "       [0.25298885, 0.436744  , 0.29172063, ..., 0.05860823, 0.93461835,\n",
       "        0.0017425 ],\n",
       "       ...,\n",
       "       [0.21687907, 0.47801873, 0.33526397, ..., 0.06405157, 0.9027918 ,\n",
       "        0.00657173],\n",
       "       [0.21613649, 0.48516077, 0.33471072, ..., 0.06658307, 0.90154487,\n",
       "        0.00674288],\n",
       "       [0.21669894, 0.48251504, 0.33465576, ..., 0.06541042, 0.9014932 ,\n",
       "        0.00664381]], dtype=float32)"
      ]
     },
     "execution_count": 59,
     "metadata": {},
     "output_type": "execute_result"
    }
   ],
   "source": [
    "adata.X[train_mask]"
   ]
  },
  {
   "cell_type": "code",
   "execution_count": 50,
   "id": "119d0314",
   "metadata": {},
   "outputs": [],
   "source": [
    "import copy\n",
    "X_imputed_all=copy.deepcopy(adata_pred.X)"
   ]
  },
  {
   "cell_type": "code",
   "execution_count": 51,
   "id": "0869e94f",
   "metadata": {},
   "outputs": [],
   "source": [
    "import anndata\n",
    "adata_imp_all=anndata.AnnData(X=X_imputed_all)"
   ]
  },
  {
   "cell_type": "code",
   "execution_count": 52,
   "id": "3dfe8a1b",
   "metadata": {},
   "outputs": [
    {
     "data": {
      "text/html": [
       "<div>\n",
       "<style scoped>\n",
       "    .dataframe tbody tr th:only-of-type {\n",
       "        vertical-align: middle;\n",
       "    }\n",
       "\n",
       "    .dataframe tbody tr th {\n",
       "        vertical-align: top;\n",
       "    }\n",
       "\n",
       "    .dataframe thead th {\n",
       "        text-align: right;\n",
       "    }\n",
       "</style>\n",
       "<table border=\"1\" class=\"dataframe\">\n",
       "  <thead>\n",
       "    <tr style=\"text-align: right;\">\n",
       "      <th></th>\n",
       "      <th>cluster</th>\n",
       "      <th>n_genes_by_counts</th>\n",
       "      <th>total_counts</th>\n",
       "      <th>n_genes</th>\n",
       "      <th>n_counts</th>\n",
       "      <th>size_factors</th>\n",
       "      <th>idx_train</th>\n",
       "      <th>idx_val</th>\n",
       "      <th>idx_test</th>\n",
       "    </tr>\n",
       "  </thead>\n",
       "  <tbody>\n",
       "    <tr>\n",
       "      <th>0-d0</th>\n",
       "      <td>d0</td>\n",
       "      <td>14195</td>\n",
       "      <td>39366.0</td>\n",
       "      <td>14195</td>\n",
       "      <td>15524.004883</td>\n",
       "      <td>0.993599</td>\n",
       "      <td>True</td>\n",
       "      <td>False</td>\n",
       "      <td>False</td>\n",
       "    </tr>\n",
       "    <tr>\n",
       "      <th>1-d0</th>\n",
       "      <td>d0</td>\n",
       "      <td>15330</td>\n",
       "      <td>44271.0</td>\n",
       "      <td>15330</td>\n",
       "      <td>15488.626953</td>\n",
       "      <td>0.991335</td>\n",
       "      <td>True</td>\n",
       "      <td>False</td>\n",
       "      <td>False</td>\n",
       "    </tr>\n",
       "    <tr>\n",
       "      <th>2-d0</th>\n",
       "      <td>d0</td>\n",
       "      <td>15055</td>\n",
       "      <td>46656.0</td>\n",
       "      <td>15055</td>\n",
       "      <td>15427.881836</td>\n",
       "      <td>0.987447</td>\n",
       "      <td>False</td>\n",
       "      <td>True</td>\n",
       "      <td>False</td>\n",
       "    </tr>\n",
       "    <tr>\n",
       "      <th>3-d0</th>\n",
       "      <td>d0</td>\n",
       "      <td>12729</td>\n",
       "      <td>30461.0</td>\n",
       "      <td>12729</td>\n",
       "      <td>15625.217773</td>\n",
       "      <td>1.000077</td>\n",
       "      <td>True</td>\n",
       "      <td>False</td>\n",
       "      <td>False</td>\n",
       "    </tr>\n",
       "    <tr>\n",
       "      <th>4-d0</th>\n",
       "      <td>d0</td>\n",
       "      <td>7455</td>\n",
       "      <td>13396.0</td>\n",
       "      <td>7455</td>\n",
       "      <td>15524.620117</td>\n",
       "      <td>0.993638</td>\n",
       "      <td>False</td>\n",
       "      <td>True</td>\n",
       "      <td>False</td>\n",
       "    </tr>\n",
       "    <tr>\n",
       "      <th>...</th>\n",
       "      <td>...</td>\n",
       "      <td>...</td>\n",
       "      <td>...</td>\n",
       "      <td>...</td>\n",
       "      <td>...</td>\n",
       "      <td>...</td>\n",
       "      <td>...</td>\n",
       "      <td>...</td>\n",
       "      <td>...</td>\n",
       "    </tr>\n",
       "    <tr>\n",
       "      <th>793-d7</th>\n",
       "      <td>d7</td>\n",
       "      <td>12538</td>\n",
       "      <td>31558.0</td>\n",
       "      <td>12538</td>\n",
       "      <td>15770.859375</td>\n",
       "      <td>1.009399</td>\n",
       "      <td>True</td>\n",
       "      <td>False</td>\n",
       "      <td>False</td>\n",
       "    </tr>\n",
       "    <tr>\n",
       "      <th>794-d7</th>\n",
       "      <td>d7</td>\n",
       "      <td>16431</td>\n",
       "      <td>53669.0</td>\n",
       "      <td>16431</td>\n",
       "      <td>15733.413086</td>\n",
       "      <td>1.007002</td>\n",
       "      <td>True</td>\n",
       "      <td>False</td>\n",
       "      <td>False</td>\n",
       "    </tr>\n",
       "    <tr>\n",
       "      <th>795-d7</th>\n",
       "      <td>d7</td>\n",
       "      <td>12634</td>\n",
       "      <td>30256.0</td>\n",
       "      <td>12634</td>\n",
       "      <td>15681.202148</td>\n",
       "      <td>1.003660</td>\n",
       "      <td>True</td>\n",
       "      <td>False</td>\n",
       "      <td>False</td>\n",
       "    </tr>\n",
       "    <tr>\n",
       "      <th>796-d7</th>\n",
       "      <td>d7</td>\n",
       "      <td>16333</td>\n",
       "      <td>48644.0</td>\n",
       "      <td>16333</td>\n",
       "      <td>15578.392578</td>\n",
       "      <td>0.997080</td>\n",
       "      <td>True</td>\n",
       "      <td>False</td>\n",
       "      <td>False</td>\n",
       "    </tr>\n",
       "    <tr>\n",
       "      <th>797-d7</th>\n",
       "      <td>d7</td>\n",
       "      <td>9668</td>\n",
       "      <td>17676.0</td>\n",
       "      <td>9668</td>\n",
       "      <td>15714.876953</td>\n",
       "      <td>1.005816</td>\n",
       "      <td>True</td>\n",
       "      <td>False</td>\n",
       "      <td>False</td>\n",
       "    </tr>\n",
       "  </tbody>\n",
       "</table>\n",
       "<p>2713 rows × 9 columns</p>\n",
       "</div>"
      ],
      "text/plain": [
       "       cluster  n_genes_by_counts  total_counts  n_genes      n_counts  \\\n",
       "0-d0        d0              14195       39366.0    14195  15524.004883   \n",
       "1-d0        d0              15330       44271.0    15330  15488.626953   \n",
       "2-d0        d0              15055       46656.0    15055  15427.881836   \n",
       "3-d0        d0              12729       30461.0    12729  15625.217773   \n",
       "4-d0        d0               7455       13396.0     7455  15524.620117   \n",
       "...        ...                ...           ...      ...           ...   \n",
       "793-d7      d7              12538       31558.0    12538  15770.859375   \n",
       "794-d7      d7              16431       53669.0    16431  15733.413086   \n",
       "795-d7      d7              12634       30256.0    12634  15681.202148   \n",
       "796-d7      d7              16333       48644.0    16333  15578.392578   \n",
       "797-d7      d7               9668       17676.0     9668  15714.876953   \n",
       "\n",
       "        size_factors  idx_train  idx_val  idx_test  \n",
       "0-d0        0.993599       True    False     False  \n",
       "1-d0        0.991335       True    False     False  \n",
       "2-d0        0.987447      False     True     False  \n",
       "3-d0        1.000077       True    False     False  \n",
       "4-d0        0.993638      False     True     False  \n",
       "...              ...        ...      ...       ...  \n",
       "793-d7      1.009399       True    False     False  \n",
       "794-d7      1.007002       True    False     False  \n",
       "795-d7      1.003660       True    False     False  \n",
       "796-d7      0.997080       True    False     False  \n",
       "797-d7      1.005816       True    False     False  \n",
       "\n",
       "[2713 rows x 9 columns]"
      ]
     },
     "execution_count": 52,
     "metadata": {},
     "output_type": "execute_result"
    }
   ],
   "source": [
    "adata.obs"
   ]
  },
  {
   "cell_type": "code",
   "execution_count": 53,
   "id": "b44e3695",
   "metadata": {},
   "outputs": [],
   "source": [
    "adata_imp_all.obs['cluster']=adata.obs['cluster'].values #.map({'d0': 0, 'd2': 1, 'd4': 2, 'd7': 3})\n",
    "adata_imp_all.obs['cluster']=adata_imp_all.obs['cluster'].map({'d0': 0, 'd2': 1, 'd4': 2, 'd7': 3})"
   ]
  },
  {
   "cell_type": "code",
   "execution_count": 54,
   "id": "f26496e9",
   "metadata": {},
   "outputs": [
    {
     "data": {
      "text/html": [
       "<div>\n",
       "<style scoped>\n",
       "    .dataframe tbody tr th:only-of-type {\n",
       "        vertical-align: middle;\n",
       "    }\n",
       "\n",
       "    .dataframe tbody tr th {\n",
       "        vertical-align: top;\n",
       "    }\n",
       "\n",
       "    .dataframe thead th {\n",
       "        text-align: right;\n",
       "    }\n",
       "</style>\n",
       "<table border=\"1\" class=\"dataframe\">\n",
       "  <thead>\n",
       "    <tr style=\"text-align: right;\">\n",
       "      <th></th>\n",
       "      <th>cluster</th>\n",
       "    </tr>\n",
       "  </thead>\n",
       "  <tbody>\n",
       "    <tr>\n",
       "      <th>0</th>\n",
       "      <td>0</td>\n",
       "    </tr>\n",
       "    <tr>\n",
       "      <th>1</th>\n",
       "      <td>0</td>\n",
       "    </tr>\n",
       "    <tr>\n",
       "      <th>2</th>\n",
       "      <td>0</td>\n",
       "    </tr>\n",
       "    <tr>\n",
       "      <th>3</th>\n",
       "      <td>0</td>\n",
       "    </tr>\n",
       "    <tr>\n",
       "      <th>4</th>\n",
       "      <td>0</td>\n",
       "    </tr>\n",
       "    <tr>\n",
       "      <th>...</th>\n",
       "      <td>...</td>\n",
       "    </tr>\n",
       "    <tr>\n",
       "      <th>2708</th>\n",
       "      <td>3</td>\n",
       "    </tr>\n",
       "    <tr>\n",
       "      <th>2709</th>\n",
       "      <td>3</td>\n",
       "    </tr>\n",
       "    <tr>\n",
       "      <th>2710</th>\n",
       "      <td>3</td>\n",
       "    </tr>\n",
       "    <tr>\n",
       "      <th>2711</th>\n",
       "      <td>3</td>\n",
       "    </tr>\n",
       "    <tr>\n",
       "      <th>2712</th>\n",
       "      <td>3</td>\n",
       "    </tr>\n",
       "  </tbody>\n",
       "</table>\n",
       "<p>2713 rows × 1 columns</p>\n",
       "</div>"
      ],
      "text/plain": [
       "     cluster\n",
       "0          0\n",
       "1          0\n",
       "2          0\n",
       "3          0\n",
       "4          0\n",
       "...      ...\n",
       "2708       3\n",
       "2709       3\n",
       "2710       3\n",
       "2711       3\n",
       "2712       3\n",
       "\n",
       "[2713 rows x 1 columns]"
      ]
     },
     "execution_count": 54,
     "metadata": {},
     "output_type": "execute_result"
    }
   ],
   "source": [
    "adata_imp_all.obs"
   ]
  },
  {
   "cell_type": "code",
   "execution_count": 55,
   "id": "d388eeda",
   "metadata": {},
   "outputs": [],
   "source": [
    "# 降维\n",
    "sc.tl.pca(adata_imp_all, svd_solver='arpack')\n",
    "sc.pp.neighbors(adata_imp_all, n_neighbors=10, n_pcs=40)\n",
    "sc.tl.umap(adata_imp_all)"
   ]
  },
  {
   "cell_type": "code",
   "execution_count": 56,
   "id": "0719e4ea",
   "metadata": {},
   "outputs": [
    {
     "name": "stderr",
     "output_type": "stream",
     "text": [
      "D:\\Anaconda3\\envs\\pytorch\\lib\\site-packages\\scanpy\\plotting\\_tools\\scatterplots.py:392: UserWarning: No data for colormapping provided via 'c'. Parameters 'cmap' will be ignored\n",
      "  cax = scatter(\n"
     ]
    },
    {
     "data": {
      "image/png": "[encoded data removed]",
      "text/plain": [
       "<Figure size 640x480 with 1 Axes>"
      ]
     },
     "metadata": {},
     "output_type": "display_data"
    }
   ],
   "source": [
    "sc.pl.umap(adata_imp_all, color=['cluster'], legend_loc='on data', title='UMAP-GATImpute', frameon=False)"
   ]
  },
  {
   "cell_type": "code",
   "execution_count": 57,
   "id": "bc22a7ab",
   "metadata": {},
   "outputs": [
    {
     "name": "stdout",
     "output_type": "stream",
     "text": [
      "ARI:  0.8125826147130767\n",
      "NMI:  0.8240420760078531\n",
      "Silhouette Score:  0.39552176\n"
     ]
    }
   ],
   "source": [
    "from sklearn.cluster import KMeans\n",
    "from sklearn.metrics import adjusted_rand_score, normalized_mutual_info_score\n",
    "\n",
    "# K-means聚类\n",
    "kmeans = KMeans(n_clusters=4).fit(adata_imp_all.X)\n",
    "\n",
    "\n",
    "ground_truth = adata_imp_all.obs.cluster.values\n",
    "#cluster_results = adata_imp_all.obs['kmeans_clusters'].tolist()\n",
    "\n",
    "ari = adjusted_rand_score(ground_truth, kmeans.labels_)\n",
    "nmi = normalized_mutual_info_score(ground_truth, kmeans.labels_)\n",
    "\n",
    "from sklearn.metrics import silhouette_score\n",
    "# 计算轮廓系数\n",
    "sil_score = silhouette_score(adata_imp_all.obsm['X_umap'],kmeans.labels_)\n",
    "\n",
    "print(\"ARI: \", ari)\n",
    "print(\"NMI: \", nmi)\n",
    "print(\"Silhouette Score: \", sil_score)"
   ]
  },
  {
   "cell_type": "code",
   "execution_count": null,
   "id": "8e83a210",
   "metadata": {},
   "outputs": [],
   "source": []
  }
 ],
 "metadata": {
  "kernelspec": {
   "display_name": "python39",
   "language": "python",
   "name": "python39"
  },
  "language_info": {
   "codemirror_mode": {
    "name": "ipython",
    "version": 3
   },
   "file_extension": ".py",
   "mimetype": "text/x-python",
   "name": "python",
   "nbconvert_exporter": "python",
   "pygments_lexer": "ipython3",
   "version": "3.9.13"
  }
 },
 "nbformat": 4,
 "nbformat_minor": 5
}
