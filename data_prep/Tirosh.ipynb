{
 "cells": [
  {
   "cell_type": "code",
   "execution_count": 1,
   "id": "96803937",
   "metadata": {},
   "outputs": [],
   "source": [
    "import os\n",
    "import scanpy as sc\n",
    "from scipy import sparse\n",
    "import numpy as np\n",
    "import pandas as pd\n",
    "import scipy.io as sio "
   ]
  },
  {
   "cell_type": "code",
   "execution_count": 2,
   "id": "b95580af",
   "metadata": {},
   "outputs": [
    {
     "name": "stdout",
     "output_type": "stream",
     "text": [
      "CPU times: total: 9.78 s\n",
      "Wall time: 9.81 s\n"
     ]
    }
   ],
   "source": [
    "%%time\n",
    "counts = pd.read_csv('D:/MyData/scEDGE_Generation/data/GSE72056/counts.csv', index_col=0, header=0).T\n",
    "obs = pd.read_csv('D:/MyData/scEDGE_Generation/data/GSE72056/obs.csv',index_col=0, header=0)"
   ]
  },
  {
   "cell_type": "code",
   "execution_count": 3,
   "id": "058b52b9",
   "metadata": {},
   "outputs": [
    {
     "name": "stderr",
     "output_type": "stream",
     "text": [
      "C:\\Users\\23247\\AppData\\Local\\Temp\\ipykernel_9688\\1923552843.py:1: FutureWarning: X.dtype being converted to np.float32 from float64. In the next version of anndata (0.9) conversion will not be automatic. Pass dtype explicitly to avoid this warning. Pass `AnnData(X, dtype=X.dtype, ...)` to get the future behavour.\n",
      "  adata = sc.AnnData(X=counts, obs=obs)\n",
      "D:\\Anaconda3\\envs\\PyTorch\\lib\\site-packages\\anndata\\_core\\anndata.py:1830: UserWarning: Variable names are not unique. To make them unique, call `.var_names_make_unique`.\n",
      "  utils.warn_names_duplicates(\"var\")\n"
     ]
    }
   ],
   "source": [
    "adata = sc.AnnData(X=counts, obs=obs)"
   ]
  },
  {
   "cell_type": "code",
   "execution_count": 4,
   "id": "bbb50609",
   "metadata": {},
   "outputs": [],
   "source": [
    "cell_type_mapping = {  \n",
    "    0: 'Malignant',  \n",
    "    1: 'T',  \n",
    "    2: 'B',  \n",
    "    3: 'Macro',  \n",
    "    4: 'Endo',  \n",
    "    5: 'CAF',  \n",
    "    6: 'NK'  \n",
    "}  "
   ]
  },
  {
   "cell_type": "code",
   "execution_count": 5,
   "id": "d8280f9d",
   "metadata": {},
   "outputs": [],
   "source": [
    "adata.obs['cell_type'] = adata.obs['cell_type'].map(cell_type_mapping)"
   ]
  },
  {
   "cell_type": "code",
   "execution_count": 6,
   "id": "d1121d6b",
   "metadata": {},
   "outputs": [
    {
     "data": {
      "text/plain": [
       "T            2068\n",
       "Malignant    1758\n",
       "B             515\n",
       "Macro         126\n",
       "Endo           65\n",
       "CAF            61\n",
       "NK             52\n",
       "Name: cell_type, dtype: int64"
      ]
     },
     "execution_count": 6,
     "metadata": {},
     "output_type": "execute_result"
    }
   ],
   "source": [
    "adata.obs.cell_type.value_counts()"
   ]
  },
  {
   "cell_type": "code",
   "execution_count": 7,
   "id": "00201018",
   "metadata": {},
   "outputs": [],
   "source": [
    "adata.X = sparse.csr_matrix(adata.X)"
   ]
  },
  {
   "cell_type": "code",
   "execution_count": 8,
   "id": "feee4c09",
   "metadata": {},
   "outputs": [],
   "source": [
    "sc.pp.calculate_qc_metrics(adata, percent_top=None, log1p=False, inplace=True)"
   ]
  },
  {
   "cell_type": "code",
   "execution_count": 9,
   "id": "f704222a",
   "metadata": {},
   "outputs": [],
   "source": [
    "adata = adata[adata.obs.total_counts < 75000, :]"
   ]
  },
  {
   "cell_type": "code",
   "execution_count": 10,
   "id": "25e04661",
   "metadata": {},
   "outputs": [
    {
     "data": {
      "text/plain": [
       "View of AnnData object with n_obs × n_vars = 4645 × 23686\n",
       "    obs: 'tumor', 'malignant', 'cell_type', 'n_genes_by_counts', 'total_counts'\n",
       "    var: 'n_cells_by_counts', 'mean_counts', 'pct_dropout_by_counts', 'total_counts'"
      ]
     },
     "execution_count": 10,
     "metadata": {},
     "output_type": "execute_result"
    }
   ],
   "source": [
    "adata"
   ]
  },
  {
   "cell_type": "code",
   "execution_count": 11,
   "id": "aa171f96",
   "metadata": {},
   "outputs": [
    {
     "name": "stderr",
     "output_type": "stream",
     "text": [
      "D:\\Anaconda3\\envs\\PyTorch\\lib\\site-packages\\scanpy\\preprocessing\\_simple.py:140: ImplicitModificationWarning: Trying to modify attribute `.obs` of view, initializing view as actual.\n",
      "  adata.obs['n_genes'] = number\n",
      "D:\\Anaconda3\\envs\\PyTorch\\lib\\site-packages\\anndata\\_core\\anndata.py:1830: UserWarning: Variable names are not unique. To make them unique, call `.var_names_make_unique`.\n",
      "  utils.warn_names_duplicates(\"var\")\n",
      "D:\\Anaconda3\\envs\\PyTorch\\lib\\site-packages\\anndata\\_core\\anndata.py:1830: UserWarning: Variable names are not unique. To make them unique, call `.var_names_make_unique`.\n",
      "  utils.warn_names_duplicates(\"var\")\n",
      "D:\\Anaconda3\\envs\\PyTorch\\lib\\site-packages\\anndata\\_core\\anndata.py:1830: UserWarning: Variable names are not unique. To make them unique, call `.var_names_make_unique`.\n",
      "  utils.warn_names_duplicates(\"var\")\n"
     ]
    }
   ],
   "source": [
    "sc.pp.filter_cells(adata, min_genes=200)\n",
    "sc.pp.filter_genes(adata, min_cells=3)"
   ]
  },
  {
   "cell_type": "code",
   "execution_count": 12,
   "id": "feb594fb",
   "metadata": {},
   "outputs": [
    {
     "data": {
      "text/plain": [
       "AnnData object with n_obs × n_vars = 4645 × 22289\n",
       "    obs: 'tumor', 'malignant', 'cell_type', 'n_genes_by_counts', 'total_counts', 'n_genes'\n",
       "    var: 'n_cells_by_counts', 'mean_counts', 'pct_dropout_by_counts', 'total_counts', 'n_cells'"
      ]
     },
     "execution_count": 12,
     "metadata": {},
     "output_type": "execute_result"
    }
   ],
   "source": [
    "adata"
   ]
  },
  {
   "cell_type": "code",
   "execution_count": 13,
   "id": "845090db",
   "metadata": {},
   "outputs": [
    {
     "data": {
      "image/png": "[encoded data removed]",
      "text/plain": [
       "<Figure size 500x350 with 1 Axes>"
      ]
     },
     "metadata": {},
     "output_type": "display_data"
    }
   ],
   "source": [
    "sc.pl.highest_expr_genes(adata, n_top=10, )"
   ]
  },
  {
   "cell_type": "code",
   "execution_count": 14,
   "id": "1d17edc6",
   "metadata": {},
   "outputs": [],
   "source": [
    "adata.var['mt'] = adata.var_names.str.startswith('MT-')  # annotate the group of mitochondrial genes as 'mt'\n",
    "sc.pp.calculate_qc_metrics(adata, qc_vars=['mt'], percent_top=None, log1p=False, inplace=True)"
   ]
  },
  {
   "cell_type": "code",
   "execution_count": 15,
   "id": "f6713e2b",
   "metadata": {},
   "outputs": [
    {
     "data": {
      "text/html": [
       "<div>\n",
       "<style scoped>\n",
       "    .dataframe tbody tr th:only-of-type {\n",
       "        vertical-align: middle;\n",
       "    }\n",
       "\n",
       "    .dataframe tbody tr th {\n",
       "        vertical-align: top;\n",
       "    }\n",
       "\n",
       "    .dataframe thead th {\n",
       "        text-align: right;\n",
       "    }\n",
       "</style>\n",
       "<table border=\"1\" class=\"dataframe\">\n",
       "  <thead>\n",
       "    <tr style=\"text-align: right;\">\n",
       "      <th></th>\n",
       "      <th>tumor</th>\n",
       "      <th>malignant</th>\n",
       "      <th>cell_type</th>\n",
       "      <th>n_genes_by_counts</th>\n",
       "      <th>total_counts</th>\n",
       "      <th>n_genes</th>\n",
       "      <th>total_counts_mt</th>\n",
       "      <th>pct_counts_mt</th>\n",
       "    </tr>\n",
       "    <tr>\n",
       "      <th>Cell</th>\n",
       "      <th></th>\n",
       "      <th></th>\n",
       "      <th></th>\n",
       "      <th></th>\n",
       "      <th></th>\n",
       "      <th></th>\n",
       "      <th></th>\n",
       "      <th></th>\n",
       "    </tr>\n",
       "  </thead>\n",
       "  <tbody>\n",
       "    <tr>\n",
       "      <th>Cy72_CD45_H02_S758_comb</th>\n",
       "      <td>72</td>\n",
       "      <td>1</td>\n",
       "      <td>B</td>\n",
       "      <td>3365</td>\n",
       "      <td>7143.362305</td>\n",
       "      <td>3365</td>\n",
       "      <td>0.0</td>\n",
       "      <td>0.0</td>\n",
       "    </tr>\n",
       "    <tr>\n",
       "      <th>CY58_1_CD45_B02_S974_comb</th>\n",
       "      <td>58</td>\n",
       "      <td>1</td>\n",
       "      <td>T</td>\n",
       "      <td>3637</td>\n",
       "      <td>8915.833008</td>\n",
       "      <td>3637</td>\n",
       "      <td>0.0</td>\n",
       "      <td>0.0</td>\n",
       "    </tr>\n",
       "    <tr>\n",
       "      <th>Cy71_CD45_D08_S524_comb</th>\n",
       "      <td>71</td>\n",
       "      <td>2</td>\n",
       "      <td>Malignant</td>\n",
       "      <td>4660</td>\n",
       "      <td>12578.256836</td>\n",
       "      <td>4660</td>\n",
       "      <td>0.0</td>\n",
       "      <td>0.0</td>\n",
       "    </tr>\n",
       "    <tr>\n",
       "      <th>Cy81_FNA_CD45_B01_S301_comb</th>\n",
       "      <td>81</td>\n",
       "      <td>2</td>\n",
       "      <td>Malignant</td>\n",
       "      <td>6387</td>\n",
       "      <td>16763.656250</td>\n",
       "      <td>6387</td>\n",
       "      <td>0.0</td>\n",
       "      <td>0.0</td>\n",
       "    </tr>\n",
       "    <tr>\n",
       "      <th>Cy80_II_CD45_B07_S883_comb</th>\n",
       "      <td>80</td>\n",
       "      <td>2</td>\n",
       "      <td>Malignant</td>\n",
       "      <td>5913</td>\n",
       "      <td>16326.734375</td>\n",
       "      <td>5913</td>\n",
       "      <td>0.0</td>\n",
       "      <td>0.0</td>\n",
       "    </tr>\n",
       "    <tr>\n",
       "      <th>...</th>\n",
       "      <td>...</td>\n",
       "      <td>...</td>\n",
       "      <td>...</td>\n",
       "      <td>...</td>\n",
       "      <td>...</td>\n",
       "      <td>...</td>\n",
       "      <td>...</td>\n",
       "      <td>...</td>\n",
       "    </tr>\n",
       "    <tr>\n",
       "      <th>CY75_1_CD45_CD8_7__S223_comb</th>\n",
       "      <td>75</td>\n",
       "      <td>1</td>\n",
       "      <td>T</td>\n",
       "      <td>5385</td>\n",
       "      <td>11474.258789</td>\n",
       "      <td>5385</td>\n",
       "      <td>0.0</td>\n",
       "      <td>0.0</td>\n",
       "    </tr>\n",
       "    <tr>\n",
       "      <th>CY75_1_CD45_CD8_1__S65_comb</th>\n",
       "      <td>75</td>\n",
       "      <td>1</td>\n",
       "      <td>T</td>\n",
       "      <td>4769</td>\n",
       "      <td>10071.713867</td>\n",
       "      <td>4769</td>\n",
       "      <td>0.0</td>\n",
       "      <td>0.0</td>\n",
       "    </tr>\n",
       "    <tr>\n",
       "      <th>CY75_1_CD45_CD8_1__S93_comb</th>\n",
       "      <td>75</td>\n",
       "      <td>1</td>\n",
       "      <td>T</td>\n",
       "      <td>4727</td>\n",
       "      <td>10088.591797</td>\n",
       "      <td>4727</td>\n",
       "      <td>0.0</td>\n",
       "      <td>0.0</td>\n",
       "    </tr>\n",
       "    <tr>\n",
       "      <th>CY75_1_CD45_CD8_1__S76_comb</th>\n",
       "      <td>75</td>\n",
       "      <td>1</td>\n",
       "      <td>T</td>\n",
       "      <td>4976</td>\n",
       "      <td>9881.551758</td>\n",
       "      <td>4976</td>\n",
       "      <td>0.0</td>\n",
       "      <td>0.0</td>\n",
       "    </tr>\n",
       "    <tr>\n",
       "      <th>CY75_1_CD45_CD8_7__S274_comb</th>\n",
       "      <td>75</td>\n",
       "      <td>1</td>\n",
       "      <td>Malignant</td>\n",
       "      <td>5881</td>\n",
       "      <td>12260.001953</td>\n",
       "      <td>5881</td>\n",
       "      <td>0.0</td>\n",
       "      <td>0.0</td>\n",
       "    </tr>\n",
       "  </tbody>\n",
       "</table>\n",
       "<p>4645 rows × 8 columns</p>\n",
       "</div>"
      ],
      "text/plain": [
       "                              tumor  malignant  cell_type  n_genes_by_counts  \\\n",
       "Cell                                                                           \n",
       "Cy72_CD45_H02_S758_comb          72          1          B               3365   \n",
       "CY58_1_CD45_B02_S974_comb        58          1          T               3637   \n",
       "Cy71_CD45_D08_S524_comb          71          2  Malignant               4660   \n",
       "Cy81_FNA_CD45_B01_S301_comb      81          2  Malignant               6387   \n",
       "Cy80_II_CD45_B07_S883_comb       80          2  Malignant               5913   \n",
       "...                             ...        ...        ...                ...   \n",
       "CY75_1_CD45_CD8_7__S223_comb     75          1          T               5385   \n",
       "CY75_1_CD45_CD8_1__S65_comb      75          1          T               4769   \n",
       "CY75_1_CD45_CD8_1__S93_comb      75          1          T               4727   \n",
       "CY75_1_CD45_CD8_1__S76_comb      75          1          T               4976   \n",
       "CY75_1_CD45_CD8_7__S274_comb     75          1  Malignant               5881   \n",
       "\n",
       "                              total_counts  n_genes  total_counts_mt  \\\n",
       "Cell                                                                   \n",
       "Cy72_CD45_H02_S758_comb        7143.362305     3365              0.0   \n",
       "CY58_1_CD45_B02_S974_comb      8915.833008     3637              0.0   \n",
       "Cy71_CD45_D08_S524_comb       12578.256836     4660              0.0   \n",
       "Cy81_FNA_CD45_B01_S301_comb   16763.656250     6387              0.0   \n",
       "Cy80_II_CD45_B07_S883_comb    16326.734375     5913              0.0   \n",
       "...                                    ...      ...              ...   \n",
       "CY75_1_CD45_CD8_7__S223_comb  11474.258789     5385              0.0   \n",
       "CY75_1_CD45_CD8_1__S65_comb   10071.713867     4769              0.0   \n",
       "CY75_1_CD45_CD8_1__S93_comb   10088.591797     4727              0.0   \n",
       "CY75_1_CD45_CD8_1__S76_comb    9881.551758     4976              0.0   \n",
       "CY75_1_CD45_CD8_7__S274_comb  12260.001953     5881              0.0   \n",
       "\n",
       "                              pct_counts_mt  \n",
       "Cell                                         \n",
       "Cy72_CD45_H02_S758_comb                 0.0  \n",
       "CY58_1_CD45_B02_S974_comb               0.0  \n",
       "Cy71_CD45_D08_S524_comb                 0.0  \n",
       "Cy81_FNA_CD45_B01_S301_comb             0.0  \n",
       "Cy80_II_CD45_B07_S883_comb              0.0  \n",
       "...                                     ...  \n",
       "CY75_1_CD45_CD8_7__S223_comb            0.0  \n",
       "CY75_1_CD45_CD8_1__S65_comb             0.0  \n",
       "CY75_1_CD45_CD8_1__S93_comb             0.0  \n",
       "CY75_1_CD45_CD8_1__S76_comb             0.0  \n",
       "CY75_1_CD45_CD8_7__S274_comb            0.0  \n",
       "\n",
       "[4645 rows x 8 columns]"
      ]
     },
     "execution_count": 15,
     "metadata": {},
     "output_type": "execute_result"
    }
   ],
   "source": [
    "adata.obs"
   ]
  },
  {
   "cell_type": "code",
   "execution_count": 16,
   "id": "cc77841f",
   "metadata": {},
   "outputs": [],
   "source": [
    "adata.obs['label']=adata.obs['cell_type']"
   ]
  },
  {
   "cell_type": "code",
   "execution_count": 17,
   "id": "d5d4f199",
   "metadata": {},
   "outputs": [
    {
     "data": {
      "text/html": [
       "<div>\n",
       "<style scoped>\n",
       "    .dataframe tbody tr th:only-of-type {\n",
       "        vertical-align: middle;\n",
       "    }\n",
       "\n",
       "    .dataframe tbody tr th {\n",
       "        vertical-align: top;\n",
       "    }\n",
       "\n",
       "    .dataframe thead th {\n",
       "        text-align: right;\n",
       "    }\n",
       "</style>\n",
       "<table border=\"1\" class=\"dataframe\">\n",
       "  <thead>\n",
       "    <tr style=\"text-align: right;\">\n",
       "      <th></th>\n",
       "      <th>tumor</th>\n",
       "      <th>malignant</th>\n",
       "      <th>cell_type</th>\n",
       "      <th>n_genes_by_counts</th>\n",
       "      <th>total_counts</th>\n",
       "      <th>n_genes</th>\n",
       "      <th>total_counts_mt</th>\n",
       "      <th>pct_counts_mt</th>\n",
       "      <th>label</th>\n",
       "    </tr>\n",
       "    <tr>\n",
       "      <th>Cell</th>\n",
       "      <th></th>\n",
       "      <th></th>\n",
       "      <th></th>\n",
       "      <th></th>\n",
       "      <th></th>\n",
       "      <th></th>\n",
       "      <th></th>\n",
       "      <th></th>\n",
       "      <th></th>\n",
       "    </tr>\n",
       "  </thead>\n",
       "  <tbody>\n",
       "    <tr>\n",
       "      <th>Cy72_CD45_H02_S758_comb</th>\n",
       "      <td>72</td>\n",
       "      <td>1</td>\n",
       "      <td>B</td>\n",
       "      <td>3365</td>\n",
       "      <td>7143.362305</td>\n",
       "      <td>3365</td>\n",
       "      <td>0.0</td>\n",
       "      <td>0.0</td>\n",
       "      <td>B</td>\n",
       "    </tr>\n",
       "    <tr>\n",
       "      <th>CY58_1_CD45_B02_S974_comb</th>\n",
       "      <td>58</td>\n",
       "      <td>1</td>\n",
       "      <td>T</td>\n",
       "      <td>3637</td>\n",
       "      <td>8915.833008</td>\n",
       "      <td>3637</td>\n",
       "      <td>0.0</td>\n",
       "      <td>0.0</td>\n",
       "      <td>T</td>\n",
       "    </tr>\n",
       "    <tr>\n",
       "      <th>Cy71_CD45_D08_S524_comb</th>\n",
       "      <td>71</td>\n",
       "      <td>2</td>\n",
       "      <td>Malignant</td>\n",
       "      <td>4660</td>\n",
       "      <td>12578.256836</td>\n",
       "      <td>4660</td>\n",
       "      <td>0.0</td>\n",
       "      <td>0.0</td>\n",
       "      <td>Malignant</td>\n",
       "    </tr>\n",
       "    <tr>\n",
       "      <th>Cy81_FNA_CD45_B01_S301_comb</th>\n",
       "      <td>81</td>\n",
       "      <td>2</td>\n",
       "      <td>Malignant</td>\n",
       "      <td>6387</td>\n",
       "      <td>16763.656250</td>\n",
       "      <td>6387</td>\n",
       "      <td>0.0</td>\n",
       "      <td>0.0</td>\n",
       "      <td>Malignant</td>\n",
       "    </tr>\n",
       "    <tr>\n",
       "      <th>Cy80_II_CD45_B07_S883_comb</th>\n",
       "      <td>80</td>\n",
       "      <td>2</td>\n",
       "      <td>Malignant</td>\n",
       "      <td>5913</td>\n",
       "      <td>16326.734375</td>\n",
       "      <td>5913</td>\n",
       "      <td>0.0</td>\n",
       "      <td>0.0</td>\n",
       "      <td>Malignant</td>\n",
       "    </tr>\n",
       "    <tr>\n",
       "      <th>...</th>\n",
       "      <td>...</td>\n",
       "      <td>...</td>\n",
       "      <td>...</td>\n",
       "      <td>...</td>\n",
       "      <td>...</td>\n",
       "      <td>...</td>\n",
       "      <td>...</td>\n",
       "      <td>...</td>\n",
       "      <td>...</td>\n",
       "    </tr>\n",
       "    <tr>\n",
       "      <th>CY75_1_CD45_CD8_7__S223_comb</th>\n",
       "      <td>75</td>\n",
       "      <td>1</td>\n",
       "      <td>T</td>\n",
       "      <td>5385</td>\n",
       "      <td>11474.258789</td>\n",
       "      <td>5385</td>\n",
       "      <td>0.0</td>\n",
       "      <td>0.0</td>\n",
       "      <td>T</td>\n",
       "    </tr>\n",
       "    <tr>\n",
       "      <th>CY75_1_CD45_CD8_1__S65_comb</th>\n",
       "      <td>75</td>\n",
       "      <td>1</td>\n",
       "      <td>T</td>\n",
       "      <td>4769</td>\n",
       "      <td>10071.713867</td>\n",
       "      <td>4769</td>\n",
       "      <td>0.0</td>\n",
       "      <td>0.0</td>\n",
       "      <td>T</td>\n",
       "    </tr>\n",
       "    <tr>\n",
       "      <th>CY75_1_CD45_CD8_1__S93_comb</th>\n",
       "      <td>75</td>\n",
       "      <td>1</td>\n",
       "      <td>T</td>\n",
       "      <td>4727</td>\n",
       "      <td>10088.591797</td>\n",
       "      <td>4727</td>\n",
       "      <td>0.0</td>\n",
       "      <td>0.0</td>\n",
       "      <td>T</td>\n",
       "    </tr>\n",
       "    <tr>\n",
       "      <th>CY75_1_CD45_CD8_1__S76_comb</th>\n",
       "      <td>75</td>\n",
       "      <td>1</td>\n",
       "      <td>T</td>\n",
       "      <td>4976</td>\n",
       "      <td>9881.551758</td>\n",
       "      <td>4976</td>\n",
       "      <td>0.0</td>\n",
       "      <td>0.0</td>\n",
       "      <td>T</td>\n",
       "    </tr>\n",
       "    <tr>\n",
       "      <th>CY75_1_CD45_CD8_7__S274_comb</th>\n",
       "      <td>75</td>\n",
       "      <td>1</td>\n",
       "      <td>Malignant</td>\n",
       "      <td>5881</td>\n",
       "      <td>12260.001953</td>\n",
       "      <td>5881</td>\n",
       "      <td>0.0</td>\n",
       "      <td>0.0</td>\n",
       "      <td>Malignant</td>\n",
       "    </tr>\n",
       "  </tbody>\n",
       "</table>\n",
       "<p>4645 rows × 9 columns</p>\n",
       "</div>"
      ],
      "text/plain": [
       "                              tumor  malignant  cell_type  n_genes_by_counts  \\\n",
       "Cell                                                                           \n",
       "Cy72_CD45_H02_S758_comb          72          1          B               3365   \n",
       "CY58_1_CD45_B02_S974_comb        58          1          T               3637   \n",
       "Cy71_CD45_D08_S524_comb          71          2  Malignant               4660   \n",
       "Cy81_FNA_CD45_B01_S301_comb      81          2  Malignant               6387   \n",
       "Cy80_II_CD45_B07_S883_comb       80          2  Malignant               5913   \n",
       "...                             ...        ...        ...                ...   \n",
       "CY75_1_CD45_CD8_7__S223_comb     75          1          T               5385   \n",
       "CY75_1_CD45_CD8_1__S65_comb      75          1          T               4769   \n",
       "CY75_1_CD45_CD8_1__S93_comb      75          1          T               4727   \n",
       "CY75_1_CD45_CD8_1__S76_comb      75          1          T               4976   \n",
       "CY75_1_CD45_CD8_7__S274_comb     75          1  Malignant               5881   \n",
       "\n",
       "                              total_counts  n_genes  total_counts_mt  \\\n",
       "Cell                                                                   \n",
       "Cy72_CD45_H02_S758_comb        7143.362305     3365              0.0   \n",
       "CY58_1_CD45_B02_S974_comb      8915.833008     3637              0.0   \n",
       "Cy71_CD45_D08_S524_comb       12578.256836     4660              0.0   \n",
       "Cy81_FNA_CD45_B01_S301_comb   16763.656250     6387              0.0   \n",
       "Cy80_II_CD45_B07_S883_comb    16326.734375     5913              0.0   \n",
       "...                                    ...      ...              ...   \n",
       "CY75_1_CD45_CD8_7__S223_comb  11474.258789     5385              0.0   \n",
       "CY75_1_CD45_CD8_1__S65_comb   10071.713867     4769              0.0   \n",
       "CY75_1_CD45_CD8_1__S93_comb   10088.591797     4727              0.0   \n",
       "CY75_1_CD45_CD8_1__S76_comb    9881.551758     4976              0.0   \n",
       "CY75_1_CD45_CD8_7__S274_comb  12260.001953     5881              0.0   \n",
       "\n",
       "                              pct_counts_mt      label  \n",
       "Cell                                                    \n",
       "Cy72_CD45_H02_S758_comb                 0.0          B  \n",
       "CY58_1_CD45_B02_S974_comb               0.0          T  \n",
       "Cy71_CD45_D08_S524_comb                 0.0  Malignant  \n",
       "Cy81_FNA_CD45_B01_S301_comb             0.0  Malignant  \n",
       "Cy80_II_CD45_B07_S883_comb              0.0  Malignant  \n",
       "...                                     ...        ...  \n",
       "CY75_1_CD45_CD8_7__S223_comb            0.0          T  \n",
       "CY75_1_CD45_CD8_1__S65_comb             0.0          T  \n",
       "CY75_1_CD45_CD8_1__S93_comb             0.0          T  \n",
       "CY75_1_CD45_CD8_1__S76_comb             0.0          T  \n",
       "CY75_1_CD45_CD8_7__S274_comb            0.0  Malignant  \n",
       "\n",
       "[4645 rows x 9 columns]"
      ]
     },
     "execution_count": 17,
     "metadata": {},
     "output_type": "execute_result"
    }
   ],
   "source": [
    "adata.obs"
   ]
  },
  {
   "cell_type": "code",
   "execution_count": 18,
   "id": "bc11f339",
   "metadata": {},
   "outputs": [
    {
     "data": {
      "image/png": "[encoded data removed]",
      "text/plain": [
       "<Figure size 728.72x480 with 1 Axes>"
      ]
     },
     "metadata": {},
     "output_type": "display_data"
    },
    {
     "data": {
      "image/png": "[encoded data removed]",
      "text/plain": [
       "<Figure size 728.72x480 with 1 Axes>"
      ]
     },
     "metadata": {},
     "output_type": "display_data"
    }
   ],
   "source": [
    "sc.pl.scatter(adata, x='total_counts', y='pct_counts_mt')\n",
    "sc.pl.scatter(adata, x='total_counts', y='n_genes_by_counts')"
   ]
  },
  {
   "cell_type": "code",
   "execution_count": 19,
   "id": "4cf2744d",
   "metadata": {},
   "outputs": [],
   "source": [
    "adata.raw = adata"
   ]
  },
  {
   "cell_type": "code",
   "execution_count": 20,
   "id": "2f9189b9",
   "metadata": {},
   "outputs": [],
   "source": [
    "folder = os.path.exists('D:/MyData/scEDGE_Generation/data/Tirosh/processed')\n",
    "\n",
    "if not folder:\n",
    "    os.makedirs('D:/MyData/scEDGE_Generation/data/Tirosh/processed')\n",
    "\n",
    "adata.write('D:/MyData/scEDGE_Generation/data/Tirosh/processed/Tirosh.h5ad')"
   ]
  },
  {
   "cell_type": "code",
   "execution_count": 21,
   "id": "a059d37c",
   "metadata": {},
   "outputs": [],
   "source": [
    "expression_matrix = adata.X.T  \n",
    "obs_data = adata.obs  \n",
    "var_data = adata.var "
   ]
  },
  {
   "cell_type": "code",
   "execution_count": 22,
   "id": "5813b07f",
   "metadata": {},
   "outputs": [],
   "source": [
    "obs_data.to_csv('D:/MyData/scEDGE_Generation/data/Tirosh/processed/tirosh_obs_data.csv')  \n",
    "var_data.to_csv('D:/MyData/scEDGE_Generation/data/Tirosh/processed/tirosh_var_data.csv') \n",
    "sio.mmwrite('D:/MyData/scEDGE_Generation/data/Tirosh/processed/tirosh_expression_matrix.mtx', expression_matrix)"
   ]
  },
  {
   "cell_type": "markdown",
   "id": "0f07b71e",
   "metadata": {},
   "source": [
    "## Top2000"
   ]
  },
  {
   "cell_type": "code",
   "execution_count": 23,
   "id": "df6eb6c0",
   "metadata": {},
   "outputs": [
    {
     "name": "stderr",
     "output_type": "stream",
     "text": [
      "D:\\Anaconda3\\envs\\PyTorch\\lib\\site-packages\\scanpy\\preprocessing\\_highly_variable_genes.py:62: UserWarning: `flavor='seurat_v3'` expects raw count data, but non-integers were found.\n",
      "  warnings.warn(\n"
     ]
    }
   ],
   "source": [
    "sc.pp.highly_variable_genes(\n",
    "                    adata,\n",
    "                    n_top_genes=min(2000, adata.shape[1]),\n",
    "                    subset=True,\n",
    "                    # layer=\"counts\",\n",
    "                    flavor=\"seurat_v3\")"
   ]
  },
  {
   "cell_type": "code",
   "execution_count": 24,
   "id": "b1fceea6",
   "metadata": {},
   "outputs": [],
   "source": [
    "adata_top = adata[:, adata.var.highly_variable]"
   ]
  },
  {
   "cell_type": "code",
   "execution_count": 25,
   "id": "e8236880",
   "metadata": {},
   "outputs": [],
   "source": [
    "folder = os.path.exists('D:/MyData/scEDGE_Generation/data/Tirosh_top2000/processed')\n",
    "\n",
    "if not folder:\n",
    "    os.makedirs('D:/MyData/scEDGE_Generation/data/Tirosh_top2000/processed')\n",
    "\n",
    "adata_top.write('D:/MyData/scEDGE_Generation/data/Tirosh_top2000/processed/Tirosh_top2000.h5ad')"
   ]
  },
  {
   "cell_type": "code",
   "execution_count": 26,
   "id": "3466acdb",
   "metadata": {},
   "outputs": [],
   "source": [
    "expression_matrix_top = adata_top.X.T  \n",
    "obs_data_top = adata_top.obs  \n",
    "var_data_top = adata_top.var  "
   ]
  },
  {
   "cell_type": "code",
   "execution_count": 27,
   "id": "40c81083",
   "metadata": {},
   "outputs": [],
   "source": [
    "obs_data_top.to_csv('D:/MyData/scEDGE_Generation/data/Tirosh_top2000/processed/tirosh_obs_data_top2000.csv')  \n",
    "var_data_top.to_csv('D:/MyData/scEDGE_Generation/data/Tirosh_top2000/processed/tirosh_var_data_top2000.csv') \n",
    "sio.mmwrite('D:/MyData/scEDGE_Generation/data/Tirosh_top2000/processed/tirosh_expression_matrix_top2000.mtx', expression_matrix_top)"
   ]
  },
  {
   "cell_type": "code",
   "execution_count": null,
   "id": "0d0abd8b",
   "metadata": {},
   "outputs": [],
   "source": []
  }
 ],
 "metadata": {
  "kernelspec": {
   "display_name": "Python 3 (ipykernel)",
   "language": "python",
   "name": "python3"
  },
  "language_info": {
   "codemirror_mode": {
    "name": "ipython",
    "version": 3
   },
   "file_extension": ".py",
   "mimetype": "text/x-python",
   "name": "python",
   "nbconvert_exporter": "python",
   "pygments_lexer": "ipython3",
   "version": "3.9.13"
  }
 },
 "nbformat": 4,
 "nbformat_minor": 5
}
