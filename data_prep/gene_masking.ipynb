{
 "cells": [
  {
   "cell_type": "code",
   "execution_count": 1,
   "id": "de1327d4",
   "metadata": {},
   "outputs": [],
   "source": [
    "import os\n",
    "import copy\n",
    "import numpy as np\n",
    "import pandas as pd\n",
    "import scanpy as sc\n",
    "\n",
    "from scipy import sparse"
   ]
  },
  {
   "cell_type": "code",
   "execution_count": 2,
   "id": "e26f86ce",
   "metadata": {},
   "outputs": [],
   "source": [
    "def maskPerCol(data_train, masked_prob, seed=3407):\n",
    "    \"\"\"\n",
    "    https://github.com/Lav-i/GNNImpute/blob/main/data/mask.py\n",
    "    将表达矩阵中每列非零的值随机置为0并返回，同时返回置为0的元素的坐标\n",
    "    :param data_train: 表达矩阵\n",
    "    :param masked_prob: 置0比例\n",
    "    :return:\n",
    "    \"\"\"\n",
    "    np.random.seed(seed)\n",
    "    X_train = copy.deepcopy(data_train)\n",
    "    rows = []\n",
    "    cols = []\n",
    "    for col in range(data_train.shape[1]):\n",
    "        index_pair_train = np.where(data_train[:, col])\n",
    "        if index_pair_train[0].shape[0] <= 3:\n",
    "            continue\n",
    "        masking_idx_train = np.random.choice(index_pair_train[0].shape[0],\n",
    "                                             int(index_pair_train[0].shape[0] * masked_prob),\n",
    "                                             replace=False)\n",
    "        X_train[index_pair_train[0][masking_idx_train], [col] * masking_idx_train.shape[0]] = 0\n",
    "        for i in index_pair_train[0][masking_idx_train]:\n",
    "            rows.append(i)\n",
    "            cols.append(col)\n",
    "\n",
    "    return X_train, rows, cols"
   ]
  },
  {
   "cell_type": "code",
   "execution_count": 3,
   "id": "ca393dac",
   "metadata": {},
   "outputs": [
    {
     "data": {
      "text/plain": [
       "_StoreAction(option_strings=['--downsample'], dest='downsample', nargs=None, const=None, default=1.0, type=<class 'float'>, choices=None, required=False, help=None, metavar=None)"
      ]
     },
     "execution_count": 3,
     "metadata": {},
     "output_type": "execute_result"
    }
   ],
   "source": [
    "import argparse\n",
    "\n",
    "parser = argparse.ArgumentParser()\n",
    "parser.add_argument('--masked_prob', default=0.2, type=float)\n",
    "parser.add_argument('--dataset', default='Zeisel', type=str)\n",
    "parser.add_argument('--downsample', default=1.0, type=float)"
   ]
  },
  {
   "cell_type": "code",
   "execution_count": 4,
   "id": "c5a129aa",
   "metadata": {},
   "outputs": [],
   "source": [
    "args, unknown = parser.parse_known_args()"
   ]
  },
  {
   "cell_type": "code",
   "execution_count": 5,
   "id": "39f943ee",
   "metadata": {},
   "outputs": [
    {
     "name": "stderr",
     "output_type": "stream",
     "text": [
      "D:\\Anaconda3\\envs\\PyTorch\\lib\\site-packages\\anndata\\_core\\anndata.py:1830: UserWarning: Variable names are not unique. To make them unique, call `.var_names_make_unique`.\n",
      "  utils.warn_names_duplicates(\"var\")\n"
     ]
    }
   ],
   "source": [
    "adata = sc.read_h5ad('D:/MyData/scEDGE_Generation/data/%s/processed/%s.h5ad' % (args.dataset, args.dataset))\n",
    "sc.pp.normalize_total(adata)\n",
    "adata.raw = adata"
   ]
  },
  {
   "cell_type": "code",
   "execution_count": 6,
   "id": "352333da",
   "metadata": {},
   "outputs": [],
   "source": [
    "path = 'D:/MyData/scEDGE_Generation/data/%s/masked' % args.dataset\n",
    "\n",
    "if not os.path.exists(path):\n",
    "    os.makedirs(path)\n",
    "\n",
    "masked, masking_row, masking_col = maskPerCol(adata.raw.X.A, args.masked_prob)"
   ]
  },
  {
   "cell_type": "code",
   "execution_count": 7,
   "id": "31a99336",
   "metadata": {},
   "outputs": [],
   "source": [
    "pd.DataFrame(masked, index=adata.obs.index, columns=adata.var.index) \\\n",
    "    .T.to_csv(path + '/%s_%s.csv' % (args.dataset, str(args.masked_prob).replace('.', '')))"
   ]
  },
  {
   "cell_type": "code",
   "execution_count": 8,
   "id": "acf00eac",
   "metadata": {},
   "outputs": [],
   "source": [
    "adata.X = sparse.csr_matrix(masked)\n",
    "adata.write(path + '/%s_%s.h5ad' % (args.dataset, str(args.masked_prob).replace('.', '')))"
   ]
  },
  {
   "cell_type": "code",
   "execution_count": 9,
   "id": "7b16a584",
   "metadata": {},
   "outputs": [],
   "source": [
    "maskIndex = sparse.coo_matrix(([1] * len(masking_col), (masking_row, masking_col)))"
   ]
  },
  {
   "cell_type": "code",
   "execution_count": 10,
   "id": "fcf55382",
   "metadata": {},
   "outputs": [],
   "source": [
    "sparse.save_npz(path + '/%s_maskIndex_%s.csv' % (args.dataset, str(args.masked_prob).replace('.', '')), maskIndex)"
   ]
  },
  {
   "cell_type": "code",
   "execution_count": null,
   "id": "5f0a29fb",
   "metadata": {},
   "outputs": [],
   "source": []
  }
 ],
 "metadata": {
  "kernelspec": {
   "display_name": "Python 3 (ipykernel)",
   "language": "python",
   "name": "python3"
  },
  "language_info": {
   "codemirror_mode": {
    "name": "ipython",
    "version": 3
   },
   "file_extension": ".py",
   "mimetype": "text/x-python",
   "name": "python",
   "nbconvert_exporter": "python",
   "pygments_lexer": "ipython3",
   "version": "3.9.13"
  }
 },
 "nbformat": 4,
 "nbformat_minor": 5
}
