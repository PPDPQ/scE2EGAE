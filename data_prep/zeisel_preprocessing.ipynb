{
 "cells": [
  {
   "cell_type": "code",
   "execution_count": 1,
   "id": "7347e07d",
   "metadata": {},
   "outputs": [],
   "source": [
    "import os\n",
    "import scanpy as sc\n",
    "from scipy import sparse\n",
    "import pandas as pd"
   ]
  },
  {
   "cell_type": "code",
   "execution_count": 2,
   "id": "14226e39",
   "metadata": {},
   "outputs": [],
   "source": [
    "zeisel_mx=pd.read_csv('D:/MyData/scEDGE_Generation/data/GSE60361_C1-3005-Expression.txt',sep='\\t',header=0,index_col=0)"
   ]
  },
  {
   "cell_type": "code",
   "execution_count": 3,
   "id": "a6364438",
   "metadata": {},
   "outputs": [],
   "source": [
    "zeisel_mx=zeisel_mx.T"
   ]
  },
  {
   "cell_type": "code",
   "execution_count": 4,
   "id": "95bacc5d",
   "metadata": {},
   "outputs": [
    {
     "data": {
      "text/html": [
       "<div>\n",
       "<style scoped>\n",
       "    .dataframe tbody tr th:only-of-type {\n",
       "        vertical-align: middle;\n",
       "    }\n",
       "\n",
       "    .dataframe tbody tr th {\n",
       "        vertical-align: top;\n",
       "    }\n",
       "\n",
       "    .dataframe thead th {\n",
       "        text-align: right;\n",
       "    }\n",
       "</style>\n",
       "<table border=\"1\" class=\"dataframe\">\n",
       "  <thead>\n",
       "    <tr style=\"text-align: right;\">\n",
       "      <th>cell_id</th>\n",
       "      <th>Tspan12</th>\n",
       "      <th>Tshz1</th>\n",
       "      <th>Fnbp1l</th>\n",
       "      <th>Adamts15</th>\n",
       "      <th>Cldn12</th>\n",
       "      <th>Rxfp1</th>\n",
       "      <th>2310042E22Rik</th>\n",
       "      <th>Sema3c</th>\n",
       "      <th>Jam2</th>\n",
       "      <th>Apbb1ip</th>\n",
       "      <th>...</th>\n",
       "      <th>Gm20826_loc1</th>\n",
       "      <th>Gm20826_loc2</th>\n",
       "      <th>Gm20877_loc2</th>\n",
       "      <th>Gm20877_loc1</th>\n",
       "      <th>Gm20865_loc4</th>\n",
       "      <th>Gm20738_loc4</th>\n",
       "      <th>Gm20738_loc6</th>\n",
       "      <th>Gm21943_loc1</th>\n",
       "      <th>Gm21943_loc3</th>\n",
       "      <th>Gm20738_loc3</th>\n",
       "    </tr>\n",
       "  </thead>\n",
       "  <tbody>\n",
       "    <tr>\n",
       "      <th>1772071015_C02</th>\n",
       "      <td>0</td>\n",
       "      <td>3</td>\n",
       "      <td>3</td>\n",
       "      <td>0</td>\n",
       "      <td>1</td>\n",
       "      <td>0</td>\n",
       "      <td>0</td>\n",
       "      <td>11</td>\n",
       "      <td>1</td>\n",
       "      <td>0</td>\n",
       "      <td>...</td>\n",
       "      <td>0</td>\n",
       "      <td>0</td>\n",
       "      <td>0</td>\n",
       "      <td>0</td>\n",
       "      <td>0</td>\n",
       "      <td>0</td>\n",
       "      <td>0</td>\n",
       "      <td>0</td>\n",
       "      <td>0</td>\n",
       "      <td>0</td>\n",
       "    </tr>\n",
       "    <tr>\n",
       "      <th>1772071017_G12</th>\n",
       "      <td>0</td>\n",
       "      <td>1</td>\n",
       "      <td>1</td>\n",
       "      <td>0</td>\n",
       "      <td>1</td>\n",
       "      <td>0</td>\n",
       "      <td>0</td>\n",
       "      <td>0</td>\n",
       "      <td>0</td>\n",
       "      <td>0</td>\n",
       "      <td>...</td>\n",
       "      <td>0</td>\n",
       "      <td>0</td>\n",
       "      <td>0</td>\n",
       "      <td>0</td>\n",
       "      <td>0</td>\n",
       "      <td>0</td>\n",
       "      <td>0</td>\n",
       "      <td>0</td>\n",
       "      <td>0</td>\n",
       "      <td>0</td>\n",
       "    </tr>\n",
       "    <tr>\n",
       "      <th>1772071017_A05</th>\n",
       "      <td>0</td>\n",
       "      <td>0</td>\n",
       "      <td>6</td>\n",
       "      <td>0</td>\n",
       "      <td>1</td>\n",
       "      <td>0</td>\n",
       "      <td>2</td>\n",
       "      <td>25</td>\n",
       "      <td>1</td>\n",
       "      <td>0</td>\n",
       "      <td>...</td>\n",
       "      <td>0</td>\n",
       "      <td>0</td>\n",
       "      <td>0</td>\n",
       "      <td>0</td>\n",
       "      <td>0</td>\n",
       "      <td>0</td>\n",
       "      <td>0</td>\n",
       "      <td>0</td>\n",
       "      <td>0</td>\n",
       "      <td>0</td>\n",
       "    </tr>\n",
       "    <tr>\n",
       "      <th>1772071014_B06</th>\n",
       "      <td>3</td>\n",
       "      <td>2</td>\n",
       "      <td>4</td>\n",
       "      <td>0</td>\n",
       "      <td>0</td>\n",
       "      <td>0</td>\n",
       "      <td>3</td>\n",
       "      <td>1</td>\n",
       "      <td>0</td>\n",
       "      <td>0</td>\n",
       "      <td>...</td>\n",
       "      <td>0</td>\n",
       "      <td>0</td>\n",
       "      <td>0</td>\n",
       "      <td>0</td>\n",
       "      <td>0</td>\n",
       "      <td>0</td>\n",
       "      <td>0</td>\n",
       "      <td>0</td>\n",
       "      <td>0</td>\n",
       "      <td>0</td>\n",
       "    </tr>\n",
       "    <tr>\n",
       "      <th>1772067065_H06</th>\n",
       "      <td>0</td>\n",
       "      <td>2</td>\n",
       "      <td>1</td>\n",
       "      <td>0</td>\n",
       "      <td>0</td>\n",
       "      <td>0</td>\n",
       "      <td>0</td>\n",
       "      <td>10</td>\n",
       "      <td>0</td>\n",
       "      <td>0</td>\n",
       "      <td>...</td>\n",
       "      <td>0</td>\n",
       "      <td>0</td>\n",
       "      <td>0</td>\n",
       "      <td>0</td>\n",
       "      <td>0</td>\n",
       "      <td>0</td>\n",
       "      <td>0</td>\n",
       "      <td>0</td>\n",
       "      <td>0</td>\n",
       "      <td>0</td>\n",
       "    </tr>\n",
       "    <tr>\n",
       "      <th>...</th>\n",
       "      <td>...</td>\n",
       "      <td>...</td>\n",
       "      <td>...</td>\n",
       "      <td>...</td>\n",
       "      <td>...</td>\n",
       "      <td>...</td>\n",
       "      <td>...</td>\n",
       "      <td>...</td>\n",
       "      <td>...</td>\n",
       "      <td>...</td>\n",
       "      <td>...</td>\n",
       "      <td>...</td>\n",
       "      <td>...</td>\n",
       "      <td>...</td>\n",
       "      <td>...</td>\n",
       "      <td>...</td>\n",
       "      <td>...</td>\n",
       "      <td>...</td>\n",
       "      <td>...</td>\n",
       "      <td>...</td>\n",
       "      <td>...</td>\n",
       "    </tr>\n",
       "    <tr>\n",
       "      <th>1772067059_B04</th>\n",
       "      <td>0</td>\n",
       "      <td>0</td>\n",
       "      <td>0</td>\n",
       "      <td>0</td>\n",
       "      <td>0</td>\n",
       "      <td>0</td>\n",
       "      <td>0</td>\n",
       "      <td>0</td>\n",
       "      <td>0</td>\n",
       "      <td>0</td>\n",
       "      <td>...</td>\n",
       "      <td>0</td>\n",
       "      <td>0</td>\n",
       "      <td>0</td>\n",
       "      <td>0</td>\n",
       "      <td>0</td>\n",
       "      <td>0</td>\n",
       "      <td>0</td>\n",
       "      <td>0</td>\n",
       "      <td>0</td>\n",
       "      <td>0</td>\n",
       "    </tr>\n",
       "    <tr>\n",
       "      <th>1772066097_D04</th>\n",
       "      <td>0</td>\n",
       "      <td>0</td>\n",
       "      <td>0</td>\n",
       "      <td>0</td>\n",
       "      <td>0</td>\n",
       "      <td>0</td>\n",
       "      <td>0</td>\n",
       "      <td>0</td>\n",
       "      <td>1</td>\n",
       "      <td>0</td>\n",
       "      <td>...</td>\n",
       "      <td>0</td>\n",
       "      <td>0</td>\n",
       "      <td>0</td>\n",
       "      <td>0</td>\n",
       "      <td>0</td>\n",
       "      <td>0</td>\n",
       "      <td>0</td>\n",
       "      <td>0</td>\n",
       "      <td>0</td>\n",
       "      <td>0</td>\n",
       "    </tr>\n",
       "    <tr>\n",
       "      <th>1772063068_D01</th>\n",
       "      <td>0</td>\n",
       "      <td>0</td>\n",
       "      <td>0</td>\n",
       "      <td>0</td>\n",
       "      <td>0</td>\n",
       "      <td>0</td>\n",
       "      <td>0</td>\n",
       "      <td>0</td>\n",
       "      <td>0</td>\n",
       "      <td>0</td>\n",
       "      <td>...</td>\n",
       "      <td>0</td>\n",
       "      <td>0</td>\n",
       "      <td>0</td>\n",
       "      <td>0</td>\n",
       "      <td>0</td>\n",
       "      <td>0</td>\n",
       "      <td>0</td>\n",
       "      <td>0</td>\n",
       "      <td>0</td>\n",
       "      <td>0</td>\n",
       "    </tr>\n",
       "    <tr>\n",
       "      <th>1772066098_A12</th>\n",
       "      <td>0</td>\n",
       "      <td>0</td>\n",
       "      <td>0</td>\n",
       "      <td>0</td>\n",
       "      <td>0</td>\n",
       "      <td>0</td>\n",
       "      <td>0</td>\n",
       "      <td>0</td>\n",
       "      <td>1</td>\n",
       "      <td>0</td>\n",
       "      <td>...</td>\n",
       "      <td>0</td>\n",
       "      <td>0</td>\n",
       "      <td>0</td>\n",
       "      <td>0</td>\n",
       "      <td>0</td>\n",
       "      <td>0</td>\n",
       "      <td>0</td>\n",
       "      <td>0</td>\n",
       "      <td>0</td>\n",
       "      <td>0</td>\n",
       "    </tr>\n",
       "    <tr>\n",
       "      <th>1772058148_F03</th>\n",
       "      <td>1</td>\n",
       "      <td>1</td>\n",
       "      <td>0</td>\n",
       "      <td>0</td>\n",
       "      <td>0</td>\n",
       "      <td>0</td>\n",
       "      <td>0</td>\n",
       "      <td>0</td>\n",
       "      <td>1</td>\n",
       "      <td>0</td>\n",
       "      <td>...</td>\n",
       "      <td>0</td>\n",
       "      <td>0</td>\n",
       "      <td>0</td>\n",
       "      <td>0</td>\n",
       "      <td>0</td>\n",
       "      <td>0</td>\n",
       "      <td>0</td>\n",
       "      <td>0</td>\n",
       "      <td>0</td>\n",
       "      <td>0</td>\n",
       "    </tr>\n",
       "  </tbody>\n",
       "</table>\n",
       "<p>3005 rows × 19972 columns</p>\n",
       "</div>"
      ],
      "text/plain": [
       "cell_id         Tspan12  Tshz1  Fnbp1l  Adamts15  Cldn12  Rxfp1  \\\n",
       "1772071015_C02        0      3       3         0       1      0   \n",
       "1772071017_G12        0      1       1         0       1      0   \n",
       "1772071017_A05        0      0       6         0       1      0   \n",
       "1772071014_B06        3      2       4         0       0      0   \n",
       "1772067065_H06        0      2       1         0       0      0   \n",
       "...                 ...    ...     ...       ...     ...    ...   \n",
       "1772067059_B04        0      0       0         0       0      0   \n",
       "1772066097_D04        0      0       0         0       0      0   \n",
       "1772063068_D01        0      0       0         0       0      0   \n",
       "1772066098_A12        0      0       0         0       0      0   \n",
       "1772058148_F03        1      1       0         0       0      0   \n",
       "\n",
       "cell_id         2310042E22Rik  Sema3c  Jam2  Apbb1ip  ...  Gm20826_loc1  \\\n",
       "1772071015_C02              0      11     1        0  ...             0   \n",
       "1772071017_G12              0       0     0        0  ...             0   \n",
       "1772071017_A05              2      25     1        0  ...             0   \n",
       "1772071014_B06              3       1     0        0  ...             0   \n",
       "1772067065_H06              0      10     0        0  ...             0   \n",
       "...                       ...     ...   ...      ...  ...           ...   \n",
       "1772067059_B04              0       0     0        0  ...             0   \n",
       "1772066097_D04              0       0     1        0  ...             0   \n",
       "1772063068_D01              0       0     0        0  ...             0   \n",
       "1772066098_A12              0       0     1        0  ...             0   \n",
       "1772058148_F03              0       0     1        0  ...             0   \n",
       "\n",
       "cell_id         Gm20826_loc2  Gm20877_loc2  Gm20877_loc1  Gm20865_loc4  \\\n",
       "1772071015_C02             0             0             0             0   \n",
       "1772071017_G12             0             0             0             0   \n",
       "1772071017_A05             0             0             0             0   \n",
       "1772071014_B06             0             0             0             0   \n",
       "1772067065_H06             0             0             0             0   \n",
       "...                      ...           ...           ...           ...   \n",
       "1772067059_B04             0             0             0             0   \n",
       "1772066097_D04             0             0             0             0   \n",
       "1772063068_D01             0             0             0             0   \n",
       "1772066098_A12             0             0             0             0   \n",
       "1772058148_F03             0             0             0             0   \n",
       "\n",
       "cell_id         Gm20738_loc4  Gm20738_loc6  Gm21943_loc1  Gm21943_loc3  \\\n",
       "1772071015_C02             0             0             0             0   \n",
       "1772071017_G12             0             0             0             0   \n",
       "1772071017_A05             0             0             0             0   \n",
       "1772071014_B06             0             0             0             0   \n",
       "1772067065_H06             0             0             0             0   \n",
       "...                      ...           ...           ...           ...   \n",
       "1772067059_B04             0             0             0             0   \n",
       "1772066097_D04             0             0             0             0   \n",
       "1772063068_D01             0             0             0             0   \n",
       "1772066098_A12             0             0             0             0   \n",
       "1772058148_F03             0             0             0             0   \n",
       "\n",
       "cell_id         Gm20738_loc3  \n",
       "1772071015_C02             0  \n",
       "1772071017_G12             0  \n",
       "1772071017_A05             0  \n",
       "1772071014_B06             0  \n",
       "1772067065_H06             0  \n",
       "...                      ...  \n",
       "1772067059_B04             0  \n",
       "1772066097_D04             0  \n",
       "1772063068_D01             0  \n",
       "1772066098_A12             0  \n",
       "1772058148_F03             0  \n",
       "\n",
       "[3005 rows x 19972 columns]"
      ]
     },
     "execution_count": 4,
     "metadata": {},
     "output_type": "execute_result"
    }
   ],
   "source": [
    "zeisel_mx"
   ]
  },
  {
   "cell_type": "code",
   "execution_count": 5,
   "id": "27d2704d",
   "metadata": {},
   "outputs": [
    {
     "data": {
      "text/plain": [
       "Index(['1772071015_C02', '1772071017_G12', '1772071017_A05', '1772071014_B06',\n",
       "       '1772067065_H06', '1772071017_E02', '1772067065_B07', '1772067060_B09',\n",
       "       '1772071014_E04', '1772071015_D04',\n",
       "       ...\n",
       "       '1772066110_D12', '1772071017_A07', '1772063071_G10', '1772058148_C03',\n",
       "       '1772063061_D09', '1772067059_B04', '1772066097_D04', '1772063068_D01',\n",
       "       '1772066098_A12', '1772058148_F03'],\n",
       "      dtype='object', length=3005)"
      ]
     },
     "execution_count": 5,
     "metadata": {},
     "output_type": "execute_result"
    }
   ],
   "source": [
    "zeisel_mx.index"
   ]
  },
  {
   "cell_type": "code",
   "execution_count": 6,
   "id": "7f1531e4",
   "metadata": {},
   "outputs": [
    {
     "data": {
      "text/plain": [
       "Index(['Tspan12', 'Tshz1', 'Fnbp1l', 'Adamts15', 'Cldn12', 'Rxfp1',\n",
       "       '2310042E22Rik', 'Sema3c', 'Jam2', 'Apbb1ip',\n",
       "       ...\n",
       "       'Gm20826_loc1', 'Gm20826_loc2', 'Gm20877_loc2', 'Gm20877_loc1',\n",
       "       'Gm20865_loc4', 'Gm20738_loc4', 'Gm20738_loc6', 'Gm21943_loc1',\n",
       "       'Gm21943_loc3', 'Gm20738_loc3'],\n",
       "      dtype='object', name='cell_id', length=19972)"
      ]
     },
     "execution_count": 6,
     "metadata": {},
     "output_type": "execute_result"
    }
   ],
   "source": [
    "zeisel_mx.columns"
   ]
  },
  {
   "cell_type": "code",
   "execution_count": 7,
   "id": "ecc8d3d4",
   "metadata": {},
   "outputs": [
    {
     "name": "stderr",
     "output_type": "stream",
     "text": [
      "C:\\Users\\23247\\AppData\\Local\\Temp\\ipykernel_6488\\461530787.py:1: FutureWarning: X.dtype being converted to np.float32 from int64. In the next version of anndata (0.9) conversion will not be automatic. Pass dtype explicitly to avoid this warning. Pass `AnnData(X, dtype=X.dtype, ...)` to get the future behavour.\n",
      "  adata=sc.AnnData(zeisel_mx,\n",
      "D:\\Anaconda3\\envs\\PyTorch\\lib\\site-packages\\anndata\\_core\\anndata.py:1830: UserWarning: Variable names are not unique. To make them unique, call `.var_names_make_unique`.\n",
      "  utils.warn_names_duplicates(\"var\")\n"
     ]
    }
   ],
   "source": [
    "adata=sc.AnnData(zeisel_mx,\n",
    "                zeisel_mx.index.to_frame(),\n",
    "                zeisel_mx.columns.to_frame())"
   ]
  },
  {
   "cell_type": "code",
   "execution_count": 8,
   "id": "6f0b8e4e",
   "metadata": {},
   "outputs": [
    {
     "data": {
      "text/plain": [
       "AnnData object with n_obs × n_vars = 3005 × 19972\n",
       "    obs: 0\n",
       "    var: 'cell_id'"
      ]
     },
     "execution_count": 8,
     "metadata": {},
     "output_type": "execute_result"
    }
   ],
   "source": [
    "adata"
   ]
  },
  {
   "cell_type": "code",
   "execution_count": 9,
   "id": "40b4513f",
   "metadata": {},
   "outputs": [],
   "source": [
    "cell_types=pd.read_csv('D:/MyData/scEDGE_Generation/data/cell_types_gse60361.txt',sep='\\t',index_col=0)"
   ]
  },
  {
   "cell_type": "code",
   "execution_count": 10,
   "id": "61a7b70d",
   "metadata": {},
   "outputs": [
    {
     "data": {
      "text/html": [
       "<div>\n",
       "<style scoped>\n",
       "    .dataframe tbody tr th:only-of-type {\n",
       "        vertical-align: middle;\n",
       "    }\n",
       "\n",
       "    .dataframe tbody tr th {\n",
       "        vertical-align: top;\n",
       "    }\n",
       "\n",
       "    .dataframe thead th {\n",
       "        text-align: right;\n",
       "    }\n",
       "</style>\n",
       "<table border=\"1\" class=\"dataframe\">\n",
       "  <thead>\n",
       "    <tr style=\"text-align: right;\">\n",
       "      <th></th>\n",
       "      <th>1772071015_C02</th>\n",
       "      <th>1772071017_G12</th>\n",
       "      <th>1772071017_A05</th>\n",
       "      <th>1772071014_B06</th>\n",
       "      <th>1772067065_H06</th>\n",
       "      <th>1772071017_E02</th>\n",
       "      <th>1772067065_B07</th>\n",
       "      <th>1772067060_B09</th>\n",
       "      <th>1772071014_E04</th>\n",
       "      <th>1772071015_D04</th>\n",
       "      <th>...</th>\n",
       "      <th>1772066110_D12</th>\n",
       "      <th>1772071017_A07</th>\n",
       "      <th>1772063071_G10</th>\n",
       "      <th>1772058148_C03</th>\n",
       "      <th>1772063061_D09</th>\n",
       "      <th>1772067059_B04</th>\n",
       "      <th>1772066097_D04</th>\n",
       "      <th>1772063068_D01</th>\n",
       "      <th>1772066098_A12</th>\n",
       "      <th>1772058148_F03</th>\n",
       "    </tr>\n",
       "    <tr>\n",
       "      <th>cell_id</th>\n",
       "      <th></th>\n",
       "      <th></th>\n",
       "      <th></th>\n",
       "      <th></th>\n",
       "      <th></th>\n",
       "      <th></th>\n",
       "      <th></th>\n",
       "      <th></th>\n",
       "      <th></th>\n",
       "      <th></th>\n",
       "      <th></th>\n",
       "      <th></th>\n",
       "      <th></th>\n",
       "      <th></th>\n",
       "      <th></th>\n",
       "      <th></th>\n",
       "      <th></th>\n",
       "      <th></th>\n",
       "      <th></th>\n",
       "      <th></th>\n",
       "      <th></th>\n",
       "    </tr>\n",
       "  </thead>\n",
       "  <tbody>\n",
       "    <tr>\n",
       "      <th>level1class</th>\n",
       "      <td>interneurons</td>\n",
       "      <td>interneurons</td>\n",
       "      <td>interneurons</td>\n",
       "      <td>interneurons</td>\n",
       "      <td>interneurons</td>\n",
       "      <td>interneurons</td>\n",
       "      <td>interneurons</td>\n",
       "      <td>interneurons</td>\n",
       "      <td>interneurons</td>\n",
       "      <td>interneurons</td>\n",
       "      <td>...</td>\n",
       "      <td>endothelial-mural</td>\n",
       "      <td>endothelial-mural</td>\n",
       "      <td>endothelial-mural</td>\n",
       "      <td>endothelial-mural</td>\n",
       "      <td>endothelial-mural</td>\n",
       "      <td>endothelial-mural</td>\n",
       "      <td>endothelial-mural</td>\n",
       "      <td>endothelial-mural</td>\n",
       "      <td>endothelial-mural</td>\n",
       "      <td>endothelial-mural</td>\n",
       "    </tr>\n",
       "  </tbody>\n",
       "</table>\n",
       "<p>1 rows × 3005 columns</p>\n",
       "</div>"
      ],
      "text/plain": [
       "            1772071015_C02 1772071017_G12 1772071017_A05 1772071014_B06  \\\n",
       "cell_id                                                                   \n",
       "level1class   interneurons   interneurons   interneurons   interneurons   \n",
       "\n",
       "            1772067065_H06 1772071017_E02 1772067065_B07 1772067060_B09  \\\n",
       "cell_id                                                                   \n",
       "level1class   interneurons   interneurons   interneurons   interneurons   \n",
       "\n",
       "            1772071014_E04 1772071015_D04  ...     1772066110_D12  \\\n",
       "cell_id                                    ...                      \n",
       "level1class   interneurons   interneurons  ...  endothelial-mural   \n",
       "\n",
       "                1772071017_A07     1772063071_G10     1772058148_C03  \\\n",
       "cell_id                                                                \n",
       "level1class  endothelial-mural  endothelial-mural  endothelial-mural   \n",
       "\n",
       "                1772063061_D09     1772067059_B04     1772066097_D04  \\\n",
       "cell_id                                                                \n",
       "level1class  endothelial-mural  endothelial-mural  endothelial-mural   \n",
       "\n",
       "                1772063068_D01     1772066098_A12     1772058148_F03  \n",
       "cell_id                                                               \n",
       "level1class  endothelial-mural  endothelial-mural  endothelial-mural  \n",
       "\n",
       "[1 rows x 3005 columns]"
      ]
     },
     "execution_count": 10,
     "metadata": {},
     "output_type": "execute_result"
    }
   ],
   "source": [
    "cell_types"
   ]
  },
  {
   "cell_type": "code",
   "execution_count": 11,
   "id": "158c25c9",
   "metadata": {},
   "outputs": [],
   "source": [
    "cell_types_new=cell_types.T"
   ]
  },
  {
   "cell_type": "code",
   "execution_count": 12,
   "id": "2428e754",
   "metadata": {},
   "outputs": [],
   "source": [
    "cell_types_new['cell_id']=cell_types_new.index"
   ]
  },
  {
   "cell_type": "code",
   "execution_count": 13,
   "id": "26c7daa2",
   "metadata": {},
   "outputs": [
    {
     "data": {
      "text/plain": [
       "1772071015_C02         interneurons\n",
       "1772071017_G12         interneurons\n",
       "1772071017_A05         interneurons\n",
       "1772071014_B06         interneurons\n",
       "1772067065_H06         interneurons\n",
       "                        ...        \n",
       "1772067059_B04    endothelial-mural\n",
       "1772066097_D04    endothelial-mural\n",
       "1772063068_D01    endothelial-mural\n",
       "1772066098_A12    endothelial-mural\n",
       "1772058148_F03    endothelial-mural\n",
       "Name: level1class, Length: 3005, dtype: object"
      ]
     },
     "execution_count": 13,
     "metadata": {},
     "output_type": "execute_result"
    }
   ],
   "source": [
    "cell_types_new['level1class']"
   ]
  },
  {
   "cell_type": "code",
   "execution_count": 14,
   "id": "cc05eded",
   "metadata": {},
   "outputs": [
    {
     "data": {
      "text/plain": [
       "array([[0., 3., 3., ..., 0., 0., 0.],\n",
       "       [0., 1., 1., ..., 0., 0., 0.],\n",
       "       [0., 0., 6., ..., 0., 0., 0.],\n",
       "       ...,\n",
       "       [0., 0., 0., ..., 0., 0., 0.],\n",
       "       [0., 0., 0., ..., 0., 0., 0.],\n",
       "       [1., 1., 0., ..., 0., 0., 0.]], dtype=float32)"
      ]
     },
     "execution_count": 14,
     "metadata": {},
     "output_type": "execute_result"
    }
   ],
   "source": [
    "adata.X"
   ]
  },
  {
   "cell_type": "code",
   "execution_count": 15,
   "id": "d0faaf9e",
   "metadata": {},
   "outputs": [
    {
     "data": {
      "text/html": [
       "<div>\n",
       "<style scoped>\n",
       "    .dataframe tbody tr th:only-of-type {\n",
       "        vertical-align: middle;\n",
       "    }\n",
       "\n",
       "    .dataframe tbody tr th {\n",
       "        vertical-align: top;\n",
       "    }\n",
       "\n",
       "    .dataframe thead th {\n",
       "        text-align: right;\n",
       "    }\n",
       "</style>\n",
       "<table border=\"1\" class=\"dataframe\">\n",
       "  <thead>\n",
       "    <tr style=\"text-align: right;\">\n",
       "      <th></th>\n",
       "      <th>0</th>\n",
       "    </tr>\n",
       "  </thead>\n",
       "  <tbody>\n",
       "    <tr>\n",
       "      <th>1772071015_C02</th>\n",
       "      <td>1772071015_C02</td>\n",
       "    </tr>\n",
       "    <tr>\n",
       "      <th>1772071017_G12</th>\n",
       "      <td>1772071017_G12</td>\n",
       "    </tr>\n",
       "    <tr>\n",
       "      <th>1772071017_A05</th>\n",
       "      <td>1772071017_A05</td>\n",
       "    </tr>\n",
       "    <tr>\n",
       "      <th>1772071014_B06</th>\n",
       "      <td>1772071014_B06</td>\n",
       "    </tr>\n",
       "    <tr>\n",
       "      <th>1772067065_H06</th>\n",
       "      <td>1772067065_H06</td>\n",
       "    </tr>\n",
       "    <tr>\n",
       "      <th>...</th>\n",
       "      <td>...</td>\n",
       "    </tr>\n",
       "    <tr>\n",
       "      <th>1772067059_B04</th>\n",
       "      <td>1772067059_B04</td>\n",
       "    </tr>\n",
       "    <tr>\n",
       "      <th>1772066097_D04</th>\n",
       "      <td>1772066097_D04</td>\n",
       "    </tr>\n",
       "    <tr>\n",
       "      <th>1772063068_D01</th>\n",
       "      <td>1772063068_D01</td>\n",
       "    </tr>\n",
       "    <tr>\n",
       "      <th>1772066098_A12</th>\n",
       "      <td>1772066098_A12</td>\n",
       "    </tr>\n",
       "    <tr>\n",
       "      <th>1772058148_F03</th>\n",
       "      <td>1772058148_F03</td>\n",
       "    </tr>\n",
       "  </tbody>\n",
       "</table>\n",
       "<p>3005 rows × 1 columns</p>\n",
       "</div>"
      ],
      "text/plain": [
       "                             0\n",
       "1772071015_C02  1772071015_C02\n",
       "1772071017_G12  1772071017_G12\n",
       "1772071017_A05  1772071017_A05\n",
       "1772071014_B06  1772071014_B06\n",
       "1772067065_H06  1772067065_H06\n",
       "...                        ...\n",
       "1772067059_B04  1772067059_B04\n",
       "1772066097_D04  1772066097_D04\n",
       "1772063068_D01  1772063068_D01\n",
       "1772066098_A12  1772066098_A12\n",
       "1772058148_F03  1772058148_F03\n",
       "\n",
       "[3005 rows x 1 columns]"
      ]
     },
     "execution_count": 15,
     "metadata": {},
     "output_type": "execute_result"
    }
   ],
   "source": [
    "adata.obs"
   ]
  },
  {
   "cell_type": "code",
   "execution_count": 16,
   "id": "ac6757c3",
   "metadata": {},
   "outputs": [],
   "source": [
    "adata.obs.rename(columns={0: 'cell_id'},inplace=True)"
   ]
  },
  {
   "cell_type": "code",
   "execution_count": 17,
   "id": "2715f53a",
   "metadata": {},
   "outputs": [],
   "source": [
    "new_obs=adata.obs.merge(cell_types_new,on='cell_id')"
   ]
  },
  {
   "cell_type": "code",
   "execution_count": 18,
   "id": "dc3c9cd3",
   "metadata": {},
   "outputs": [],
   "source": [
    "new_obs.index=new_obs['cell_id']"
   ]
  },
  {
   "cell_type": "code",
   "execution_count": 19,
   "id": "aeeeabf5",
   "metadata": {},
   "outputs": [
    {
     "data": {
      "text/html": [
       "<div>\n",
       "<style scoped>\n",
       "    .dataframe tbody tr th:only-of-type {\n",
       "        vertical-align: middle;\n",
       "    }\n",
       "\n",
       "    .dataframe tbody tr th {\n",
       "        vertical-align: top;\n",
       "    }\n",
       "\n",
       "    .dataframe thead th {\n",
       "        text-align: right;\n",
       "    }\n",
       "</style>\n",
       "<table border=\"1\" class=\"dataframe\">\n",
       "  <thead>\n",
       "    <tr style=\"text-align: right;\">\n",
       "      <th></th>\n",
       "      <th>cell_id</th>\n",
       "      <th>level1class</th>\n",
       "    </tr>\n",
       "    <tr>\n",
       "      <th>cell_id</th>\n",
       "      <th></th>\n",
       "      <th></th>\n",
       "    </tr>\n",
       "  </thead>\n",
       "  <tbody>\n",
       "    <tr>\n",
       "      <th>1772071015_C02</th>\n",
       "      <td>1772071015_C02</td>\n",
       "      <td>interneurons</td>\n",
       "    </tr>\n",
       "    <tr>\n",
       "      <th>1772071017_G12</th>\n",
       "      <td>1772071017_G12</td>\n",
       "      <td>interneurons</td>\n",
       "    </tr>\n",
       "    <tr>\n",
       "      <th>1772071017_A05</th>\n",
       "      <td>1772071017_A05</td>\n",
       "      <td>interneurons</td>\n",
       "    </tr>\n",
       "    <tr>\n",
       "      <th>1772071014_B06</th>\n",
       "      <td>1772071014_B06</td>\n",
       "      <td>interneurons</td>\n",
       "    </tr>\n",
       "    <tr>\n",
       "      <th>1772067065_H06</th>\n",
       "      <td>1772067065_H06</td>\n",
       "      <td>interneurons</td>\n",
       "    </tr>\n",
       "    <tr>\n",
       "      <th>...</th>\n",
       "      <td>...</td>\n",
       "      <td>...</td>\n",
       "    </tr>\n",
       "    <tr>\n",
       "      <th>1772067059_B04</th>\n",
       "      <td>1772067059_B04</td>\n",
       "      <td>endothelial-mural</td>\n",
       "    </tr>\n",
       "    <tr>\n",
       "      <th>1772066097_D04</th>\n",
       "      <td>1772066097_D04</td>\n",
       "      <td>endothelial-mural</td>\n",
       "    </tr>\n",
       "    <tr>\n",
       "      <th>1772063068_D01</th>\n",
       "      <td>1772063068_D01</td>\n",
       "      <td>endothelial-mural</td>\n",
       "    </tr>\n",
       "    <tr>\n",
       "      <th>1772066098_A12</th>\n",
       "      <td>1772066098_A12</td>\n",
       "      <td>endothelial-mural</td>\n",
       "    </tr>\n",
       "    <tr>\n",
       "      <th>1772058148_F03</th>\n",
       "      <td>1772058148_F03</td>\n",
       "      <td>endothelial-mural</td>\n",
       "    </tr>\n",
       "  </tbody>\n",
       "</table>\n",
       "<p>3005 rows × 2 columns</p>\n",
       "</div>"
      ],
      "text/plain": [
       "                       cell_id        level1class\n",
       "cell_id                                          \n",
       "1772071015_C02  1772071015_C02       interneurons\n",
       "1772071017_G12  1772071017_G12       interneurons\n",
       "1772071017_A05  1772071017_A05       interneurons\n",
       "1772071014_B06  1772071014_B06       interneurons\n",
       "1772067065_H06  1772067065_H06       interneurons\n",
       "...                        ...                ...\n",
       "1772067059_B04  1772067059_B04  endothelial-mural\n",
       "1772066097_D04  1772066097_D04  endothelial-mural\n",
       "1772063068_D01  1772063068_D01  endothelial-mural\n",
       "1772066098_A12  1772066098_A12  endothelial-mural\n",
       "1772058148_F03  1772058148_F03  endothelial-mural\n",
       "\n",
       "[3005 rows x 2 columns]"
      ]
     },
     "execution_count": 19,
     "metadata": {},
     "output_type": "execute_result"
    }
   ],
   "source": [
    "new_obs"
   ]
  },
  {
   "cell_type": "code",
   "execution_count": 20,
   "id": "80ed43a1",
   "metadata": {},
   "outputs": [],
   "source": [
    "import copy\n",
    "adata.obs=copy.deepcopy(new_obs)"
   ]
  },
  {
   "cell_type": "code",
   "execution_count": 21,
   "id": "71b1fd77",
   "metadata": {},
   "outputs": [
    {
     "data": {
      "text/plain": [
       "AnnData object with n_obs × n_vars = 3005 × 19972\n",
       "    obs: 'cell_id', 'level1class'\n",
       "    var: 'cell_id'"
      ]
     },
     "execution_count": 21,
     "metadata": {},
     "output_type": "execute_result"
    }
   ],
   "source": [
    "adata"
   ]
  },
  {
   "cell_type": "code",
   "execution_count": 22,
   "id": "e628d1da",
   "metadata": {},
   "outputs": [
    {
     "data": {
      "text/html": [
       "<div>\n",
       "<style scoped>\n",
       "    .dataframe tbody tr th:only-of-type {\n",
       "        vertical-align: middle;\n",
       "    }\n",
       "\n",
       "    .dataframe tbody tr th {\n",
       "        vertical-align: top;\n",
       "    }\n",
       "\n",
       "    .dataframe thead th {\n",
       "        text-align: right;\n",
       "    }\n",
       "</style>\n",
       "<table border=\"1\" class=\"dataframe\">\n",
       "  <thead>\n",
       "    <tr style=\"text-align: right;\">\n",
       "      <th></th>\n",
       "      <th>cell_id</th>\n",
       "    </tr>\n",
       "    <tr>\n",
       "      <th>cell_id</th>\n",
       "      <th></th>\n",
       "    </tr>\n",
       "  </thead>\n",
       "  <tbody>\n",
       "    <tr>\n",
       "      <th>Tspan12</th>\n",
       "      <td>Tspan12</td>\n",
       "    </tr>\n",
       "    <tr>\n",
       "      <th>Tshz1</th>\n",
       "      <td>Tshz1</td>\n",
       "    </tr>\n",
       "    <tr>\n",
       "      <th>Fnbp1l</th>\n",
       "      <td>Fnbp1l</td>\n",
       "    </tr>\n",
       "    <tr>\n",
       "      <th>Adamts15</th>\n",
       "      <td>Adamts15</td>\n",
       "    </tr>\n",
       "    <tr>\n",
       "      <th>Cldn12</th>\n",
       "      <td>Cldn12</td>\n",
       "    </tr>\n",
       "    <tr>\n",
       "      <th>...</th>\n",
       "      <td>...</td>\n",
       "    </tr>\n",
       "    <tr>\n",
       "      <th>Gm20738_loc4</th>\n",
       "      <td>Gm20738_loc4</td>\n",
       "    </tr>\n",
       "    <tr>\n",
       "      <th>Gm20738_loc6</th>\n",
       "      <td>Gm20738_loc6</td>\n",
       "    </tr>\n",
       "    <tr>\n",
       "      <th>Gm21943_loc1</th>\n",
       "      <td>Gm21943_loc1</td>\n",
       "    </tr>\n",
       "    <tr>\n",
       "      <th>Gm21943_loc3</th>\n",
       "      <td>Gm21943_loc3</td>\n",
       "    </tr>\n",
       "    <tr>\n",
       "      <th>Gm20738_loc3</th>\n",
       "      <td>Gm20738_loc3</td>\n",
       "    </tr>\n",
       "  </tbody>\n",
       "</table>\n",
       "<p>19972 rows × 1 columns</p>\n",
       "</div>"
      ],
      "text/plain": [
       "                   cell_id\n",
       "cell_id                   \n",
       "Tspan12            Tspan12\n",
       "Tshz1                Tshz1\n",
       "Fnbp1l              Fnbp1l\n",
       "Adamts15          Adamts15\n",
       "Cldn12              Cldn12\n",
       "...                    ...\n",
       "Gm20738_loc4  Gm20738_loc4\n",
       "Gm20738_loc6  Gm20738_loc6\n",
       "Gm21943_loc1  Gm21943_loc1\n",
       "Gm21943_loc3  Gm21943_loc3\n",
       "Gm20738_loc3  Gm20738_loc3\n",
       "\n",
       "[19972 rows x 1 columns]"
      ]
     },
     "execution_count": 22,
     "metadata": {},
     "output_type": "execute_result"
    }
   ],
   "source": [
    "adata.var"
   ]
  },
  {
   "cell_type": "code",
   "execution_count": 23,
   "id": "40801029",
   "metadata": {},
   "outputs": [],
   "source": [
    "adata.X = sparse.csr_matrix(adata.X)"
   ]
  },
  {
   "cell_type": "code",
   "execution_count": 24,
   "id": "287e9622",
   "metadata": {},
   "outputs": [
    {
     "data": {
      "text/plain": [
       "<3005x19972 sparse matrix of type '<class 'numpy.float32'>'\n",
       "\twith 11276181 stored elements in Compressed Sparse Row format>"
      ]
     },
     "execution_count": 24,
     "metadata": {},
     "output_type": "execute_result"
    }
   ],
   "source": [
    "adata.X"
   ]
  },
  {
   "cell_type": "code",
   "execution_count": 25,
   "id": "bfd77469",
   "metadata": {},
   "outputs": [],
   "source": [
    "sc.pp.calculate_qc_metrics(adata, percent_top=None, log1p=False, inplace=True)"
   ]
  },
  {
   "cell_type": "code",
   "execution_count": 26,
   "id": "215edcb2",
   "metadata": {},
   "outputs": [
    {
     "data": {
      "text/plain": [
       "AnnData object with n_obs × n_vars = 3005 × 19972\n",
       "    obs: 'cell_id', 'level1class', 'n_genes_by_counts', 'total_counts'\n",
       "    var: 'cell_id', 'n_cells_by_counts', 'mean_counts', 'pct_dropout_by_counts', 'total_counts'"
      ]
     },
     "execution_count": 26,
     "metadata": {},
     "output_type": "execute_result"
    }
   ],
   "source": [
    "adata"
   ]
  },
  {
   "cell_type": "code",
   "execution_count": 27,
   "id": "fd756e95",
   "metadata": {},
   "outputs": [],
   "source": [
    "adata.var.rename(columns={'cell_id': 'gene_name'},inplace=True)"
   ]
  },
  {
   "cell_type": "code",
   "execution_count": 28,
   "id": "4de090c1",
   "metadata": {},
   "outputs": [
    {
     "data": {
      "text/html": [
       "<div>\n",
       "<style scoped>\n",
       "    .dataframe tbody tr th:only-of-type {\n",
       "        vertical-align: middle;\n",
       "    }\n",
       "\n",
       "    .dataframe tbody tr th {\n",
       "        vertical-align: top;\n",
       "    }\n",
       "\n",
       "    .dataframe thead th {\n",
       "        text-align: right;\n",
       "    }\n",
       "</style>\n",
       "<table border=\"1\" class=\"dataframe\">\n",
       "  <thead>\n",
       "    <tr style=\"text-align: right;\">\n",
       "      <th></th>\n",
       "      <th>gene_name</th>\n",
       "      <th>n_cells_by_counts</th>\n",
       "      <th>mean_counts</th>\n",
       "      <th>pct_dropout_by_counts</th>\n",
       "      <th>total_counts</th>\n",
       "    </tr>\n",
       "    <tr>\n",
       "      <th>cell_id</th>\n",
       "      <th></th>\n",
       "      <th></th>\n",
       "      <th></th>\n",
       "      <th></th>\n",
       "      <th></th>\n",
       "    </tr>\n",
       "  </thead>\n",
       "  <tbody>\n",
       "    <tr>\n",
       "      <th>Tspan12</th>\n",
       "      <td>Tspan12</td>\n",
       "      <td>472</td>\n",
       "      <td>0.278869</td>\n",
       "      <td>84.292845</td>\n",
       "      <td>838.0</td>\n",
       "    </tr>\n",
       "    <tr>\n",
       "      <th>Tshz1</th>\n",
       "      <td>Tshz1</td>\n",
       "      <td>573</td>\n",
       "      <td>0.423627</td>\n",
       "      <td>80.931780</td>\n",
       "      <td>1273.0</td>\n",
       "    </tr>\n",
       "    <tr>\n",
       "      <th>Fnbp1l</th>\n",
       "      <td>Fnbp1l</td>\n",
       "      <td>1167</td>\n",
       "      <td>1.042928</td>\n",
       "      <td>61.164725</td>\n",
       "      <td>3134.0</td>\n",
       "    </tr>\n",
       "    <tr>\n",
       "      <th>Adamts15</th>\n",
       "      <td>Adamts15</td>\n",
       "      <td>77</td>\n",
       "      <td>0.044592</td>\n",
       "      <td>97.437604</td>\n",
       "      <td>134.0</td>\n",
       "    </tr>\n",
       "    <tr>\n",
       "      <th>Cldn12</th>\n",
       "      <td>Cldn12</td>\n",
       "      <td>669</td>\n",
       "      <td>0.379368</td>\n",
       "      <td>77.737105</td>\n",
       "      <td>1140.0</td>\n",
       "    </tr>\n",
       "    <tr>\n",
       "      <th>...</th>\n",
       "      <td>...</td>\n",
       "      <td>...</td>\n",
       "      <td>...</td>\n",
       "      <td>...</td>\n",
       "      <td>...</td>\n",
       "    </tr>\n",
       "    <tr>\n",
       "      <th>Gm20738_loc4</th>\n",
       "      <td>Gm20738_loc4</td>\n",
       "      <td>9</td>\n",
       "      <td>0.002995</td>\n",
       "      <td>99.700499</td>\n",
       "      <td>9.0</td>\n",
       "    </tr>\n",
       "    <tr>\n",
       "      <th>Gm20738_loc6</th>\n",
       "      <td>Gm20738_loc6</td>\n",
       "      <td>3</td>\n",
       "      <td>0.001664</td>\n",
       "      <td>99.900166</td>\n",
       "      <td>5.0</td>\n",
       "    </tr>\n",
       "    <tr>\n",
       "      <th>Gm21943_loc1</th>\n",
       "      <td>Gm21943_loc1</td>\n",
       "      <td>2</td>\n",
       "      <td>0.000666</td>\n",
       "      <td>99.933444</td>\n",
       "      <td>2.0</td>\n",
       "    </tr>\n",
       "    <tr>\n",
       "      <th>Gm21943_loc3</th>\n",
       "      <td>Gm21943_loc3</td>\n",
       "      <td>2</td>\n",
       "      <td>0.000666</td>\n",
       "      <td>99.933444</td>\n",
       "      <td>2.0</td>\n",
       "    </tr>\n",
       "    <tr>\n",
       "      <th>Gm20738_loc3</th>\n",
       "      <td>Gm20738_loc3</td>\n",
       "      <td>2</td>\n",
       "      <td>0.000666</td>\n",
       "      <td>99.933444</td>\n",
       "      <td>2.0</td>\n",
       "    </tr>\n",
       "  </tbody>\n",
       "</table>\n",
       "<p>19972 rows × 5 columns</p>\n",
       "</div>"
      ],
      "text/plain": [
       "                 gene_name  n_cells_by_counts  mean_counts  \\\n",
       "cell_id                                                      \n",
       "Tspan12            Tspan12                472     0.278869   \n",
       "Tshz1                Tshz1                573     0.423627   \n",
       "Fnbp1l              Fnbp1l               1167     1.042928   \n",
       "Adamts15          Adamts15                 77     0.044592   \n",
       "Cldn12              Cldn12                669     0.379368   \n",
       "...                    ...                ...          ...   \n",
       "Gm20738_loc4  Gm20738_loc4                  9     0.002995   \n",
       "Gm20738_loc6  Gm20738_loc6                  3     0.001664   \n",
       "Gm21943_loc1  Gm21943_loc1                  2     0.000666   \n",
       "Gm21943_loc3  Gm21943_loc3                  2     0.000666   \n",
       "Gm20738_loc3  Gm20738_loc3                  2     0.000666   \n",
       "\n",
       "              pct_dropout_by_counts  total_counts  \n",
       "cell_id                                            \n",
       "Tspan12                   84.292845         838.0  \n",
       "Tshz1                     80.931780        1273.0  \n",
       "Fnbp1l                    61.164725        3134.0  \n",
       "Adamts15                  97.437604         134.0  \n",
       "Cldn12                    77.737105        1140.0  \n",
       "...                             ...           ...  \n",
       "Gm20738_loc4              99.700499           9.0  \n",
       "Gm20738_loc6              99.900166           5.0  \n",
       "Gm21943_loc1              99.933444           2.0  \n",
       "Gm21943_loc3              99.933444           2.0  \n",
       "Gm20738_loc3              99.933444           2.0  \n",
       "\n",
       "[19972 rows x 5 columns]"
      ]
     },
     "execution_count": 28,
     "metadata": {},
     "output_type": "execute_result"
    }
   ],
   "source": [
    "adata.var"
   ]
  },
  {
   "cell_type": "code",
   "execution_count": 29,
   "id": "9beecb19",
   "metadata": {},
   "outputs": [],
   "source": [
    "adata = adata[adata.obs.total_counts < 75000, :]"
   ]
  },
  {
   "cell_type": "code",
   "execution_count": 30,
   "id": "cfda9e25",
   "metadata": {},
   "outputs": [
    {
     "data": {
      "text/plain": [
       "View of AnnData object with n_obs × n_vars = 3005 × 19972\n",
       "    obs: 'cell_id', 'level1class', 'n_genes_by_counts', 'total_counts'\n",
       "    var: 'gene_name', 'n_cells_by_counts', 'mean_counts', 'pct_dropout_by_counts', 'total_counts'"
      ]
     },
     "execution_count": 30,
     "metadata": {},
     "output_type": "execute_result"
    }
   ],
   "source": [
    "adata"
   ]
  },
  {
   "cell_type": "code",
   "execution_count": 31,
   "id": "97e27917",
   "metadata": {},
   "outputs": [
    {
     "name": "stderr",
     "output_type": "stream",
     "text": [
      "C:\\Users\\23247\\AppData\\Local\\Temp\\ipykernel_6488\\4189253526.py:1: ImplicitModificationWarning: Trying to modify attribute `.obs` of view, initializing view as actual.\n",
      "  adata.obs['label']=adata.obs['level1class']\n",
      "D:\\Anaconda3\\envs\\PyTorch\\lib\\site-packages\\anndata\\_core\\anndata.py:1830: UserWarning: Variable names are not unique. To make them unique, call `.var_names_make_unique`.\n",
      "  utils.warn_names_duplicates(\"var\")\n",
      "D:\\Anaconda3\\envs\\PyTorch\\lib\\site-packages\\anndata\\_core\\anndata.py:1830: UserWarning: Variable names are not unique. To make them unique, call `.var_names_make_unique`.\n",
      "  utils.warn_names_duplicates(\"var\")\n"
     ]
    }
   ],
   "source": [
    "adata.obs['label']=adata.obs['level1class']"
   ]
  },
  {
   "cell_type": "code",
   "execution_count": 32,
   "id": "421be027",
   "metadata": {},
   "outputs": [
    {
     "data": {
      "text/html": [
       "<div>\n",
       "<style scoped>\n",
       "    .dataframe tbody tr th:only-of-type {\n",
       "        vertical-align: middle;\n",
       "    }\n",
       "\n",
       "    .dataframe tbody tr th {\n",
       "        vertical-align: top;\n",
       "    }\n",
       "\n",
       "    .dataframe thead th {\n",
       "        text-align: right;\n",
       "    }\n",
       "</style>\n",
       "<table border=\"1\" class=\"dataframe\">\n",
       "  <thead>\n",
       "    <tr style=\"text-align: right;\">\n",
       "      <th></th>\n",
       "      <th>cell_id</th>\n",
       "      <th>level1class</th>\n",
       "      <th>n_genes_by_counts</th>\n",
       "      <th>total_counts</th>\n",
       "      <th>label</th>\n",
       "    </tr>\n",
       "    <tr>\n",
       "      <th>cell_id</th>\n",
       "      <th></th>\n",
       "      <th></th>\n",
       "      <th></th>\n",
       "      <th></th>\n",
       "      <th></th>\n",
       "    </tr>\n",
       "  </thead>\n",
       "  <tbody>\n",
       "    <tr>\n",
       "      <th>1772071015_C02</th>\n",
       "      <td>1772071015_C02</td>\n",
       "      <td>interneurons</td>\n",
       "      <td>4848</td>\n",
       "      <td>21580.0</td>\n",
       "      <td>interneurons</td>\n",
       "    </tr>\n",
       "    <tr>\n",
       "      <th>1772071017_G12</th>\n",
       "      <td>1772071017_G12</td>\n",
       "      <td>interneurons</td>\n",
       "      <td>4685</td>\n",
       "      <td>21748.0</td>\n",
       "      <td>interneurons</td>\n",
       "    </tr>\n",
       "    <tr>\n",
       "      <th>1772071017_A05</th>\n",
       "      <td>1772071017_A05</td>\n",
       "      <td>interneurons</td>\n",
       "      <td>6028</td>\n",
       "      <td>31642.0</td>\n",
       "      <td>interneurons</td>\n",
       "    </tr>\n",
       "    <tr>\n",
       "      <th>1772071014_B06</th>\n",
       "      <td>1772071014_B06</td>\n",
       "      <td>interneurons</td>\n",
       "      <td>5824</td>\n",
       "      <td>32914.0</td>\n",
       "      <td>interneurons</td>\n",
       "    </tr>\n",
       "    <tr>\n",
       "      <th>1772067065_H06</th>\n",
       "      <td>1772067065_H06</td>\n",
       "      <td>interneurons</td>\n",
       "      <td>4701</td>\n",
       "      <td>21530.0</td>\n",
       "      <td>interneurons</td>\n",
       "    </tr>\n",
       "    <tr>\n",
       "      <th>...</th>\n",
       "      <td>...</td>\n",
       "      <td>...</td>\n",
       "      <td>...</td>\n",
       "      <td>...</td>\n",
       "      <td>...</td>\n",
       "    </tr>\n",
       "    <tr>\n",
       "      <th>1772067059_B04</th>\n",
       "      <td>1772067059_B04</td>\n",
       "      <td>endothelial-mural</td>\n",
       "      <td>2221</td>\n",
       "      <td>4585.0</td>\n",
       "      <td>endothelial-mural</td>\n",
       "    </tr>\n",
       "    <tr>\n",
       "      <th>1772066097_D04</th>\n",
       "      <td>1772066097_D04</td>\n",
       "      <td>endothelial-mural</td>\n",
       "      <td>1428</td>\n",
       "      <td>2559.0</td>\n",
       "      <td>endothelial-mural</td>\n",
       "    </tr>\n",
       "    <tr>\n",
       "      <th>1772063068_D01</th>\n",
       "      <td>1772063068_D01</td>\n",
       "      <td>endothelial-mural</td>\n",
       "      <td>1977</td>\n",
       "      <td>4015.0</td>\n",
       "      <td>endothelial-mural</td>\n",
       "    </tr>\n",
       "    <tr>\n",
       "      <th>1772066098_A12</th>\n",
       "      <td>1772066098_A12</td>\n",
       "      <td>endothelial-mural</td>\n",
       "      <td>1493</td>\n",
       "      <td>2896.0</td>\n",
       "      <td>endothelial-mural</td>\n",
       "    </tr>\n",
       "    <tr>\n",
       "      <th>1772058148_F03</th>\n",
       "      <td>1772058148_F03</td>\n",
       "      <td>endothelial-mural</td>\n",
       "      <td>1775</td>\n",
       "      <td>4460.0</td>\n",
       "      <td>endothelial-mural</td>\n",
       "    </tr>\n",
       "  </tbody>\n",
       "</table>\n",
       "<p>3005 rows × 5 columns</p>\n",
       "</div>"
      ],
      "text/plain": [
       "                       cell_id        level1class  n_genes_by_counts  \\\n",
       "cell_id                                                                \n",
       "1772071015_C02  1772071015_C02       interneurons               4848   \n",
       "1772071017_G12  1772071017_G12       interneurons               4685   \n",
       "1772071017_A05  1772071017_A05       interneurons               6028   \n",
       "1772071014_B06  1772071014_B06       interneurons               5824   \n",
       "1772067065_H06  1772067065_H06       interneurons               4701   \n",
       "...                        ...                ...                ...   \n",
       "1772067059_B04  1772067059_B04  endothelial-mural               2221   \n",
       "1772066097_D04  1772066097_D04  endothelial-mural               1428   \n",
       "1772063068_D01  1772063068_D01  endothelial-mural               1977   \n",
       "1772066098_A12  1772066098_A12  endothelial-mural               1493   \n",
       "1772058148_F03  1772058148_F03  endothelial-mural               1775   \n",
       "\n",
       "                total_counts              label  \n",
       "cell_id                                          \n",
       "1772071015_C02       21580.0       interneurons  \n",
       "1772071017_G12       21748.0       interneurons  \n",
       "1772071017_A05       31642.0       interneurons  \n",
       "1772071014_B06       32914.0       interneurons  \n",
       "1772067065_H06       21530.0       interneurons  \n",
       "...                      ...                ...  \n",
       "1772067059_B04        4585.0  endothelial-mural  \n",
       "1772066097_D04        2559.0  endothelial-mural  \n",
       "1772063068_D01        4015.0  endothelial-mural  \n",
       "1772066098_A12        2896.0  endothelial-mural  \n",
       "1772058148_F03        4460.0  endothelial-mural  \n",
       "\n",
       "[3005 rows x 5 columns]"
      ]
     },
     "execution_count": 32,
     "metadata": {},
     "output_type": "execute_result"
    }
   ],
   "source": [
    "adata.obs"
   ]
  },
  {
   "cell_type": "code",
   "execution_count": 33,
   "id": "3423cc4d",
   "metadata": {},
   "outputs": [
    {
     "name": "stderr",
     "output_type": "stream",
     "text": [
      "D:\\Anaconda3\\envs\\PyTorch\\lib\\site-packages\\anndata\\_core\\anndata.py:1830: UserWarning: Variable names are not unique. To make them unique, call `.var_names_make_unique`.\n",
      "  utils.warn_names_duplicates(\"var\")\n",
      "D:\\Anaconda3\\envs\\PyTorch\\lib\\site-packages\\anndata\\_core\\anndata.py:1830: UserWarning: Variable names are not unique. To make them unique, call `.var_names_make_unique`.\n",
      "  utils.warn_names_duplicates(\"var\")\n"
     ]
    }
   ],
   "source": [
    "sc.pp.filter_cells(adata, min_genes=200)\n",
    "sc.pp.filter_genes(adata, min_cells=3)"
   ]
  },
  {
   "cell_type": "code",
   "execution_count": 34,
   "id": "e0f8c488",
   "metadata": {},
   "outputs": [
    {
     "data": {
      "image/png": "[encoded data removed]",
      "text/plain": [
       "<Figure size 500x550 with 1 Axes>"
      ]
     },
     "metadata": {},
     "output_type": "display_data"
    }
   ],
   "source": [
    "sc.pl.highest_expr_genes(adata, n_top=20, )"
   ]
  },
  {
   "cell_type": "code",
   "execution_count": 35,
   "id": "5b098f32",
   "metadata": {},
   "outputs": [],
   "source": [
    "adata.var['mt'] = adata.var_names.str.startswith('MT-')  # annotate the group of mitochondrial genes as 'mt'\n",
    "sc.pp.calculate_qc_metrics(adata, qc_vars=['mt'], percent_top=None, log1p=False, inplace=True)"
   ]
  },
  {
   "cell_type": "code",
   "execution_count": 36,
   "id": "80c0b263",
   "metadata": {},
   "outputs": [],
   "source": [
    "adata.raw = adata"
   ]
  },
  {
   "cell_type": "code",
   "execution_count": 37,
   "id": "758ada38",
   "metadata": {},
   "outputs": [],
   "source": [
    "folder = os.path.exists('D:/MyData/scEDGE_Generation/data/Zeisel/processed')\n",
    "\n",
    "if not folder:\n",
    "    os.makedirs('D:/MyData/scEDGE_Generation/data/Zeisel/processed')\n",
    "\n",
    "adata.write('D:/MyData/scEDGE_Generation/data/Zeisel/processed/Zeisel.h5ad')"
   ]
  },
  {
   "cell_type": "code",
   "execution_count": 38,
   "id": "10a7b16a",
   "metadata": {},
   "outputs": [],
   "source": [
    "expression_matrix = adata.X.T  \n",
    "obs_data = adata.obs  \n",
    "var_data = adata.var  "
   ]
  },
  {
   "cell_type": "code",
   "execution_count": 39,
   "id": "af2442c9",
   "metadata": {},
   "outputs": [],
   "source": [
    "import scipy.io as sio \n",
    "obs_data.to_csv('D:/MyData/scEDGE_Generation/data/Zeisel/processed/zeisel_obs_data.csv')  \n",
    "var_data.to_csv('D:/MyData/scEDGE_Generation/data/Zeisel/processed/zeisel_var_data.csv') \n",
    "sio.mmwrite('D:/MyData/scEDGE_Generation/data/Zeisel/processed/zeisel_expression_matrix.mtx', expression_matrix)"
   ]
  },
  {
   "cell_type": "markdown",
   "id": "dd95d00a",
   "metadata": {},
   "source": [
    "## Top2000"
   ]
  },
  {
   "cell_type": "code",
   "execution_count": 40,
   "id": "ac2a1590",
   "metadata": {},
   "outputs": [
    {
     "name": "stderr",
     "output_type": "stream",
     "text": [
      "D:\\Anaconda3\\envs\\PyTorch\\lib\\site-packages\\anndata\\_core\\anndata.py:1830: UserWarning: Variable names are not unique. To make them unique, call `.var_names_make_unique`.\n",
      "  utils.warn_names_duplicates(\"var\")\n"
     ]
    }
   ],
   "source": [
    "sc.pp.highly_variable_genes(\n",
    "                    adata,\n",
    "                    n_top_genes=2000,\n",
    "                    subset=True,\n",
    "                    # layer=\"counts\",\n",
    "                    flavor=\"seurat_v3\")"
   ]
  },
  {
   "cell_type": "code",
   "execution_count": 41,
   "id": "a3a644be",
   "metadata": {},
   "outputs": [],
   "source": [
    "adata_top = adata[:, adata.var.highly_variable]"
   ]
  },
  {
   "cell_type": "code",
   "execution_count": 42,
   "id": "36163552",
   "metadata": {},
   "outputs": [],
   "source": [
    "folder = os.path.exists('D:/MyData/scEDGE_Generation/data/Zeisel_top2000/processed')\n",
    "\n",
    "if not folder:\n",
    "    os.makedirs('D:/MyData/scEDGE_Generation/data/Zeisel_top2000/processed')\n",
    "    \n",
    "adata_top.write('D:/MyData/scEDGE_Generation/data/Zeisel_top2000/processed/Zeisel_top2000.h5ad')"
   ]
  },
  {
   "cell_type": "code",
   "execution_count": 43,
   "id": "dcacd290",
   "metadata": {},
   "outputs": [
    {
     "name": "stdout",
     "output_type": "stream",
     "text": [
      "Index(['Tshz1', '2310042E22Rik', 'Sema3c', 'Jam2', 'Klhl13', 'Tnfaip8l3',\n",
      "       'Atp1b2', 'Prkar2b', 'Necab1', 'Nr2f2',\n",
      "       ...\n",
      "       'Xlr4a', 'Sytl4', 'Xkrx', 'Tmsb15b1', 'Irs4', 'Gucy2f', 'Amot', 'Alas2',\n",
      "       'Usp9y', 'Gm20826_loc2'],\n",
      "      dtype='object', name='cell_id', length=2001)\n"
     ]
    }
   ],
   "source": [
    "print(adata_top.var_names)"
   ]
  },
  {
   "cell_type": "code",
   "execution_count": 44,
   "id": "f00e9fb5",
   "metadata": {},
   "outputs": [],
   "source": [
    "expression_matrix_top = adata_top.X.T  \n",
    "obs_data_top = adata_top.obs  \n",
    "var_data_top = adata_top.var  "
   ]
  },
  {
   "cell_type": "code",
   "execution_count": 45,
   "id": "d69e54a9",
   "metadata": {},
   "outputs": [],
   "source": [
    "obs_data_top.to_csv('D:/MyData/scEDGE_Generation/data/Zeisel_top2000/processed/Zeisel_obs_data_top2000.csv')  \n",
    "var_data_top.to_csv('D:/MyData/scEDGE_Generation/data/Zeisel_top2000/processed/Zeisel_var_data_top2000.csv') \n",
    "sio.mmwrite('D:/MyData/scEDGE_Generation/data/Zeisel_top2000/processed/Zeisel_expression_matrix_top2000.mtx', expression_matrix_top)"
   ]
  },
  {
   "cell_type": "code",
   "execution_count": null,
   "id": "ef06fda5",
   "metadata": {},
   "outputs": [],
   "source": []
  }
 ],
 "metadata": {
  "kernelspec": {
   "display_name": "Python 3 (ipykernel)",
   "language": "python",
   "name": "python3"
  },
  "language_info": {
   "codemirror_mode": {
    "name": "ipython",
    "version": 3
   },
   "file_extension": ".py",
   "mimetype": "text/x-python",
   "name": "python",
   "nbconvert_exporter": "python",
   "pygments_lexer": "ipython3",
   "version": "3.9.13"
  }
 },
 "nbformat": 4,
 "nbformat_minor": 5
}
