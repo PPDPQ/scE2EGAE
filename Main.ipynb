{
 "cells": [
  {
   "cell_type": "code",
   "execution_count": 1,
   "id": "9c0e0e7d",
   "metadata": {},
   "outputs": [],
   "source": [
    "import math\n",
    "import torch\n",
    "import numpy as np\n",
    "import os\n",
    "device = torch.device('cuda' if torch.cuda.is_available() else 'cpu')\n",
    "SEED=3407\n",
    "torch.manual_seed(SEED)\n",
    "torch.cuda.manual_seed(SEED)"
   ]
  },
  {
   "cell_type": "code",
   "execution_count": 2,
   "id": "bb421d06",
   "metadata": {},
   "outputs": [],
   "source": [
    "from imputation_model import *\n",
    "from train import *\n",
    "from utils import *\n",
    "from losses import *"
   ]
  },
  {
   "cell_type": "code",
   "execution_count": 3,
   "id": "ccebafdd",
   "metadata": {},
   "outputs": [],
   "source": [
    "import scanpy as sc\n",
    "from scipy import sparse\n",
    "\n",
    "from sklearn.cluster import KMeans\n",
    "from sklearn.metrics import mean_squared_error, mean_absolute_error\n",
    "from sklearn.metrics.cluster import adjusted_rand_score, normalized_mutual_info_score\n",
    "from scipy.stats import pearsonr\n",
    "from sklearn.metrics.pairwise import cosine_similarity"
   ]
  },
  {
   "cell_type": "code",
   "execution_count": 4,
   "id": "8cd81eac",
   "metadata": {},
   "outputs": [],
   "source": [
    "def e2eImpute(adata,\n",
    "              project='AE',\n",
    "              imputation='GAE',\n",
    "              k=3,\n",
    "              distance='hyperbolic',\n",
    "              z_dim=64,\n",
    "              y_dim=128,\n",
    "              hidden_dim_gae=1024,\n",
    "              #hidden_dim_gae2=128,\n",
    "              hidden_dim_ae=128,\n",
    "              dropout_gae=0.3,\n",
    "              #dropout_gae2=0.3,\n",
    "              use_raw=True,\n",
    "              no_cuda=False,\n",
    "              epochs=1000,\n",
    "              lr=0.001,\n",
    "              weight_decay=0.0005,\n",
    "              patience=200,\n",
    "              alpha=0.1,\n",
    "              beta=0.9,\n",
    "              gamma=0.5,\n",
    "              mse_v2=True,\n",
    "              fastmode=False,\n",
    "              verbose=True):\n",
    "    \n",
    "    adata = adata.copy()\n",
    "    #adata = normalize(adata, filter_min_counts=False)\n",
    "    \n",
    "    true_values=torch.tensor(adata.raw.X.A, dtype=torch.float).to(device)\n",
    "    size_factors = 1.0\n",
    "    \n",
    "    data=torch.tensor(adata.X.toarray(), dtype=torch.float).to(device)\n",
    "    model=IntegratedModel(data,size_factors=size_factors, project=project, imputation=imputation, k=k, distance=distance,\n",
    "                         z_dim=z_dim, y_dim=y_dim, hidden_dim_gae=hidden_dim_gae, hidden_dim_ae=hidden_dim_ae, \n",
    "                          dropout1=dropout_gae, use_raw=use_raw).to(device)\n",
    "    \n",
    "    print(model)\n",
    "\n",
    "    train(data=data, true_values=true_values, model=model,\n",
    "          project=project, imputation=imputation, no_cuda=no_cuda, epochs=epochs, lr=lr, weight_decay=weight_decay,\n",
    "          patience=patience, alpha=alpha, beta=beta, gamma=gamma, mse_v2=mse_v2, fastmode=fastmode, verbose=verbose)\n",
    "\n",
    "    \n",
    "    if project == 'AE' and imputation == 'GAE':\n",
    "        output_mlp, pred = model(data)\n",
    "        result = pred.detach().cpu()\n",
    "    if project == 'AE' and imputation == 'ZINBGAE':\n",
    "        output_mlp, pred, z_dropout, z_dispersion = model(data)\n",
    "        result = pred.detach().cpu()\n",
    "    if project == 'ZINBAE' and imputation == 'GAE':\n",
    "        output_mlp, _, _, pred = model(data)\n",
    "        result = pred.detach().cpu()\n",
    "    if project == 'ZINBAE' and imputation == 'ZINBGAE':\n",
    "        output_mlp, _, _, pred, _, _ = model(data)\n",
    "        result = pred.detach().cpu()\n",
    "\n",
    "    return result"
   ]
  },
  {
   "cell_type": "code",
   "execution_count": 5,
   "id": "043c77ee",
   "metadata": {},
   "outputs": [],
   "source": [
    "def pearsonr_error(y, h):\n",
    "    res = []\n",
    "    if len(y.shape) < 2:\n",
    "        y = y.reshape((1, -1))\n",
    "        h = h.reshape((1, -1))\n",
    "\n",
    "    for i in range(y.shape[0]):\n",
    "        res.append(pearsonr(y[i], h[i])[0])\n",
    "    return np.mean(res)\n",
    "\n",
    "\n",
    "def cosine_similarity_score(y, h):\n",
    "    if len(y.shape) < 2:\n",
    "        y = y.reshape((1, -1))\n",
    "        h = h.reshape((1, -1))\n",
    "    cos = cosine_similarity(y, h)\n",
    "    res = []\n",
    "    for i in range(len(cos)):\n",
    "        res.append(cos[i][i])\n",
    "    return np.mean(res)"
   ]
  },
  {
   "cell_type": "markdown",
   "id": "ab8c6992",
   "metadata": {},
   "source": [
    "### Hyperparameters\n",
    "\n",
    "| Datasets | Num_Epochs | Patience | K | Distance_Measure | AE_Dim | GAE_Dim | Dropout_GAE | LR    | Alpha  | Beta | MSE_V2 |\n",
    "|----------|------------|----------|---|------------------|--------|---------|-------------|-------|--------|------|--------|\n",
    "| Klein    | 500        | 20       | 3 | Hyperbolic       | 128    | 2000    | 0           | 0.003 | 0.0005 | 1    | False  |\n",
    "| Zeisel   | 700        | 30       | 3 | Hyperbolic       | 128    | 2000    | 0.1         | 0.003 | 0.001  | 1    | True   |\n",
    "| Romanov  | 500        | 20       | 3 | Hyperbolic       | 128    | 2000    | 0.1         | 0.003 | 0.0005 | 1    | False  |\n",
    "| ITC      | 500        | 20       | 1 | Hyperbolic       | 128    | 2000    | 0.1         | 0.003 | 0.001  | 1    | False  |\n",
    "| Chu      | 2000       | 20       | 1 | Euclidean        | 128    | 2000    | 0           | 0.003 | 0.001  | 1    | False  |\n",
    "| ILC      | 4000       | 10       | 1 | Hyperbolic       | 128    | 2000    | 0           | 0.003 | 0.001  | 1    | False  |\n",
    "| Tirosh   | 800        | 10       | 1 | Hyperbolic       | 128    | 128     | 0           | 0.003 | 0.001  | 1    | False  |\n",
    "| AD       | 1500       | 20       | 1 | Hyperbolic       | 128    | 64      | 0           | 0.003 | 0.001  | 1    | False  |"
   ]
  },
  {
   "cell_type": "code",
   "execution_count": 168,
   "id": "cc14b317",
   "metadata": {},
   "outputs": [
    {
     "name": "stderr",
     "output_type": "stream",
     "text": [
      "D:\\Anaconda3\\envs\\PyTorch\\lib\\site-packages\\anndata\\_core\\anndata.py:1830: UserWarning: Variable names are not unique. To make them unique, call `.var_names_make_unique`.\n",
      "  utils.warn_names_duplicates(\"var\")\n"
     ]
    }
   ],
   "source": [
    "from scipy.io import mmread \n",
    "import pandas as pd  \n",
    "\n",
    "dataset='zeisel'\n",
    "adata = sc.read_h5ad('./dataset/%s_top2000_00.h5ad'%(dataset, dataset))\n",
    "expression_matrix_ori = mmread('./dataset/%s_expression_matrix_top2000.mtx'%(dataset, dataset)).T  \n",
    "obs_data = pd.read_csv('./dataset/%s_obs_data_top2000.csv'%(dataset, dataset), index_col=0) \n",
    "var_data = pd.read_csv('./dataset/%s_var_data_top2000.csv'%(dataset, dataset), index_col=0) "
   ]
  },
  {
   "cell_type": "code",
   "execution_count": 248,
   "id": "2855b605",
   "metadata": {
    "scrolled": true
   },
   "outputs": [
    {
     "name": "stdout",
     "output_type": "stream",
     "text": [
      "IntegratedModel(\n",
      "  (mlp): MLP(\n",
      "    (MLP): Sequential(\n",
      "      (0): Dropout(p=0.1, inplace=False)\n",
      "      (1): Linear(in_features=2001, out_features=128, bias=True)\n",
      "      (2): LeakyReLU(negative_slope=0.1)\n",
      "      (3): Dropout(p=0.1, inplace=False)\n",
      "      (4): Linear(in_features=128, out_features=2001, bias=True)\n",
      "    )\n",
      "  )\n",
      "  (zinbae): ZINBAE(\n",
      "    (enc1): Linear(in_features=2001, out_features=128, bias=True)\n",
      "    (bn1): BatchNorm1d(128, eps=1e-05, momentum=0.1, affine=True, track_running_stats=True)\n",
      "    (dr1): Dropout(p=0.3, inplace=False)\n",
      "    (mean_act): MeanAct()\n",
      "    (disp_act): DispAct()\n",
      "    (pi_act): Sigmoid()\n",
      "    (dense2_mean): Linear(in_features=128, out_features=2001, bias=True)\n",
      "    (dense2_disp): Linear(in_features=128, out_features=2001, bias=True)\n",
      "    (dense2_pi): Linear(in_features=128, out_features=2001, bias=True)\n",
      "  )\n",
      "  (edgeSamplingGumbel): EdgeSamplingGumbel()\n",
      "  (gae): GAE(\n",
      "    (conv1): GCNConv(2001, 2000)\n",
      "    (encode_ln): LayerNorm((2000,), eps=1e-05, elementwise_affine=True)\n",
      "    (conv2): GCNConv(2000, 2001)\n",
      "  )\n",
      "  (zinbgae): ZINBGAE(\n",
      "    (gcn_share): GCNConv(2001, 256)\n",
      "    (gn1): GraphNorm(256)\n",
      "    (dr1): Dropout(p=0.1, inplace=False)\n",
      "    (mean_act): MeanAct()\n",
      "    (disp_act): DispAct()\n",
      "    (pi_act): Sigmoid()\n",
      "    (gcn_mean): GCNConv(256, 2001)\n",
      "    (gcn_disp): GCNConv(256, 2001)\n",
      "    (gcn_pi): GCNConv(256, 2001)\n",
      "  )\n",
      ")\n",
      "Epoch: 0010 loss_train: 0.1681\n",
      "Epoch: 0020 loss_train: 0.1533\n",
      "Epoch: 0030 loss_train: 0.1440\n",
      "Epoch: 0040 loss_train: 0.1376\n",
      "Epoch: 0050 loss_train: 0.1325\n",
      "Epoch: 0060 loss_train: 0.1281\n",
      "Epoch: 0070 loss_train: 0.1237\n",
      "Epoch: 0080 loss_train: 0.1194\n",
      "Epoch: 0090 loss_train: 0.1153\n",
      "Epoch: 0100 loss_train: 0.1115\n",
      "Epoch: 0110 loss_train: 0.1067\n",
      "Epoch: 0120 loss_train: 0.1025\n",
      "Epoch: 0130 loss_train: 0.1011\n",
      "Epoch: 0140 loss_train: 0.0970\n",
      "Epoch: 0150 loss_train: 0.0935\n",
      "Epoch: 0160 loss_train: 0.0910\n",
      "Epoch: 0170 loss_train: 0.0903\n",
      "Epoch: 0180 loss_train: 0.0884\n",
      "Epoch: 0190 loss_train: 0.0871\n",
      "Epoch: 0200 loss_train: 0.0853\n",
      "Epoch: 0210 loss_train: 0.0843\n",
      "Epoch: 0220 loss_train: 0.0835\n",
      "Epoch: 0230 loss_train: 0.0841\n",
      "Epoch: 0240 loss_train: 0.0825\n",
      "Epoch: 0250 loss_train: 0.0817\n",
      "Epoch: 0260 loss_train: 0.0813\n",
      "Epoch: 0270 loss_train: 0.0817\n",
      "Epoch: 0280 loss_train: 0.0807\n",
      "Epoch: 0290 loss_train: 0.0802\n",
      "Epoch: 0300 loss_train: 0.0798\n",
      "Epoch: 0310 loss_train: 0.0798\n",
      "Epoch: 0320 loss_train: 0.0801\n",
      "Epoch: 0330 loss_train: 0.0793\n",
      "Epoch: 0340 loss_train: 0.0789\n",
      "Epoch: 0350 loss_train: 0.0791\n",
      "Epoch: 0360 loss_train: 0.0786\n",
      "Epoch: 0370 loss_train: 0.0782\n",
      "Epoch: 0380 loss_train: 0.0788\n",
      "Epoch: 0390 loss_train: 0.0782\n",
      "Epoch: 0400 loss_train: 0.0779\n",
      "Epoch: 0410 loss_train: 0.0778\n",
      "Epoch: 0420 loss_train: 0.0782\n",
      "Epoch: 0430 loss_train: 0.0777\n",
      "Epoch: 0440 loss_train: 0.0775\n",
      "Epoch: 0450 loss_train: 0.0772\n",
      "Epoch: 0460 loss_train: 0.0771\n",
      "Epoch: 0470 loss_train: 0.0776\n",
      "Epoch: 0480 loss_train: 0.0772\n",
      "Epoch: 0490 loss_train: 0.0771\n",
      "Epoch: 0500 loss_train: 0.0771\n",
      "Epoch: 0510 loss_train: 0.0768\n",
      "Epoch: 0520 loss_train: 0.0770\n",
      "Epoch: 0530 loss_train: 0.0772\n",
      "Epoch: 0540 loss_train: 0.0769\n",
      "Total time elapsed: 26.9231s\n",
      "CPU times: total: 28 s\n",
      "Wall time: 27.1 s\n"
     ]
    }
   ],
   "source": [
    "%%time\n",
    "result = e2eImpute(adata=adata,\n",
    "                    project='ZINBAE', #AE ZINBAE\n",
    "                    imputation='GAE', #GAE ZINBGAE\n",
    "                    k=3,\n",
    "                    distance='hyperbolic', #euclidean, manhattan, hyperbolic, cosine\n",
    "                    z_dim=128, #AE\n",
    "                    y_dim=256, #ZINBGAE\n",
    "                    hidden_dim_gae=2000, #GAE\n",
    "                    #hidden_dim_gae2=512,\n",
    "                    hidden_dim_ae=128, #ZINBAE\n",
    "                    dropout_gae=0.1,\n",
    "                    #dropout_gae2=0.1,\n",
    "                    use_raw=True,\n",
    "                    no_cuda=False,\n",
    "                    epochs=700,\n",
    "                    lr=0.003, \n",
    "                    weight_decay=0,\n",
    "                    patience=30,\n",
    "                    alpha=0.001,\n",
    "                    beta=1,\n",
    "                    gamma=1,\n",
    "                    mse_v2=True,\n",
    "                    fastmode=False,\n",
    "                    verbose=True)"
   ]
  },
  {
   "cell_type": "markdown",
   "id": "5808d695",
   "metadata": {},
   "source": [
    "##### Metrics calculation"
   ]
  },
  {
   "cell_type": "code",
   "execution_count": 249,
   "id": "44ef0b7b",
   "metadata": {},
   "outputs": [
    {
     "name": "stderr",
     "output_type": "stream",
     "text": [
      "C:\\Users\\23247\\AppData\\Local\\Temp\\ipykernel_17524\\348137886.py:2: FutureWarning: X.dtype being converted to np.float32 from float64. In the next version of anndata (0.9) conversion will not be automatic. Pass dtype explicitly to avoid this warning. Pass `AnnData(X, dtype=X.dtype, ...)` to get the future behavour.\n",
      "  adata_ori = anndata.AnnData(X=expression_matrix_ori, obs=obs_data, var=var_data)\n"
     ]
    }
   ],
   "source": [
    "import anndata  \n",
    "adata_ori = anndata.AnnData(X=expression_matrix_ori, obs=obs_data, var=var_data) "
   ]
  },
  {
   "cell_type": "code",
   "execution_count": 250,
   "id": "7a772f22",
   "metadata": {},
   "outputs": [],
   "source": [
    "mse = float('%.4f' % mean_squared_error(adata.raw.X.A, np.asarray(sparse.csc_matrix.todense(adata.X))))\n",
    "mae = float('%.4f' % mean_absolute_error(adata.raw.X.A, np.asarray(sparse.csc_matrix.todense(adata.X))))\n",
    "pcc = float('%.4f' % pearsonr_error(adata.raw.X.A, np.asarray(sparse.csc_matrix.todense(adata.X))))\n",
    "cs = float('%.4f' % cosine_similarity_score(adata.raw.X.A, np.asarray(sparse.csc_matrix.todense(adata.X))))"
   ]
  },
  {
   "cell_type": "code",
   "execution_count": 251,
   "id": "e4aa6b9f",
   "metadata": {},
   "outputs": [
    {
     "name": "stdout",
     "output_type": "stream",
     "text": [
      "0.0 0.0 1.0 1.0\n"
     ]
    }
   ],
   "source": [
    "print(mse,mae,pcc,cs)"
   ]
  },
  {
   "cell_type": "code",
   "execution_count": 252,
   "id": "71f35b82",
   "metadata": {},
   "outputs": [],
   "source": [
    "mse = float('%.4f' % mean_squared_error(adata_ori.X.A, result))\n",
    "mae = float('%.4f' % mean_absolute_error(adata_ori.X.A, result))\n",
    "pcc = float('%.4f' % pearsonr_error(adata_ori.X.A, result))\n",
    "cs = float('%.4f' % cosine_similarity_score(adata_ori.X.A, result))"
   ]
  },
  {
   "cell_type": "code",
   "execution_count": 253,
   "id": "18a133a7",
   "metadata": {},
   "outputs": [
    {
     "name": "stdout",
     "output_type": "stream",
     "text": [
      "138.4046 0.5811 0.9198 0.9216\n"
     ]
    }
   ],
   "source": [
    "print(mse,mae,pcc,cs)"
   ]
  },
  {
   "cell_type": "code",
   "execution_count": 254,
   "id": "eeff4ee0",
   "metadata": {},
   "outputs": [
    {
     "data": {
      "text/html": [
       "<div>\n",
       "<style scoped>\n",
       "    .dataframe tbody tr th:only-of-type {\n",
       "        vertical-align: middle;\n",
       "    }\n",
       "\n",
       "    .dataframe tbody tr th {\n",
       "        vertical-align: top;\n",
       "    }\n",
       "\n",
       "    .dataframe thead th {\n",
       "        text-align: right;\n",
       "    }\n",
       "</style>\n",
       "<table border=\"1\" class=\"dataframe\">\n",
       "  <thead>\n",
       "    <tr style=\"text-align: right;\">\n",
       "      <th></th>\n",
       "      <th>cell_id</th>\n",
       "      <th>level1class</th>\n",
       "      <th>n_genes_by_counts</th>\n",
       "      <th>total_counts</th>\n",
       "      <th>label</th>\n",
       "      <th>n_genes</th>\n",
       "      <th>total_counts_mt</th>\n",
       "      <th>pct_counts_mt</th>\n",
       "    </tr>\n",
       "    <tr>\n",
       "      <th>cell_id</th>\n",
       "      <th></th>\n",
       "      <th></th>\n",
       "      <th></th>\n",
       "      <th></th>\n",
       "      <th></th>\n",
       "      <th></th>\n",
       "      <th></th>\n",
       "      <th></th>\n",
       "    </tr>\n",
       "  </thead>\n",
       "  <tbody>\n",
       "    <tr>\n",
       "      <th>1772071015_C02</th>\n",
       "      <td>1772071015_C02</td>\n",
       "      <td>interneurons</td>\n",
       "      <td>4848</td>\n",
       "      <td>21580.0</td>\n",
       "      <td>interneurons</td>\n",
       "      <td>4848</td>\n",
       "      <td>0.0</td>\n",
       "      <td>0.0</td>\n",
       "    </tr>\n",
       "    <tr>\n",
       "      <th>1772071017_G12</th>\n",
       "      <td>1772071017_G12</td>\n",
       "      <td>interneurons</td>\n",
       "      <td>4684</td>\n",
       "      <td>21747.0</td>\n",
       "      <td>interneurons</td>\n",
       "      <td>4685</td>\n",
       "      <td>0.0</td>\n",
       "      <td>0.0</td>\n",
       "    </tr>\n",
       "    <tr>\n",
       "      <th>1772071017_A05</th>\n",
       "      <td>1772071017_A05</td>\n",
       "      <td>interneurons</td>\n",
       "      <td>6026</td>\n",
       "      <td>31640.0</td>\n",
       "      <td>interneurons</td>\n",
       "      <td>6028</td>\n",
       "      <td>0.0</td>\n",
       "      <td>0.0</td>\n",
       "    </tr>\n",
       "    <tr>\n",
       "      <th>1772071014_B06</th>\n",
       "      <td>1772071014_B06</td>\n",
       "      <td>interneurons</td>\n",
       "      <td>5824</td>\n",
       "      <td>32914.0</td>\n",
       "      <td>interneurons</td>\n",
       "      <td>5824</td>\n",
       "      <td>0.0</td>\n",
       "      <td>0.0</td>\n",
       "    </tr>\n",
       "    <tr>\n",
       "      <th>1772067065_H06</th>\n",
       "      <td>1772067065_H06</td>\n",
       "      <td>interneurons</td>\n",
       "      <td>4700</td>\n",
       "      <td>21528.0</td>\n",
       "      <td>interneurons</td>\n",
       "      <td>4701</td>\n",
       "      <td>0.0</td>\n",
       "      <td>0.0</td>\n",
       "    </tr>\n",
       "    <tr>\n",
       "      <th>...</th>\n",
       "      <td>...</td>\n",
       "      <td>...</td>\n",
       "      <td>...</td>\n",
       "      <td>...</td>\n",
       "      <td>...</td>\n",
       "      <td>...</td>\n",
       "      <td>...</td>\n",
       "      <td>...</td>\n",
       "    </tr>\n",
       "    <tr>\n",
       "      <th>1772067059_B04</th>\n",
       "      <td>1772067059_B04</td>\n",
       "      <td>endothelial-mural</td>\n",
       "      <td>2220</td>\n",
       "      <td>4584.0</td>\n",
       "      <td>endothelial-mural</td>\n",
       "      <td>2221</td>\n",
       "      <td>0.0</td>\n",
       "      <td>0.0</td>\n",
       "    </tr>\n",
       "    <tr>\n",
       "      <th>1772066097_D04</th>\n",
       "      <td>1772066097_D04</td>\n",
       "      <td>endothelial-mural</td>\n",
       "      <td>1428</td>\n",
       "      <td>2559.0</td>\n",
       "      <td>endothelial-mural</td>\n",
       "      <td>1428</td>\n",
       "      <td>0.0</td>\n",
       "      <td>0.0</td>\n",
       "    </tr>\n",
       "    <tr>\n",
       "      <th>1772063068_D01</th>\n",
       "      <td>1772063068_D01</td>\n",
       "      <td>endothelial-mural</td>\n",
       "      <td>1976</td>\n",
       "      <td>4014.0</td>\n",
       "      <td>endothelial-mural</td>\n",
       "      <td>1977</td>\n",
       "      <td>0.0</td>\n",
       "      <td>0.0</td>\n",
       "    </tr>\n",
       "    <tr>\n",
       "      <th>1772066098_A12</th>\n",
       "      <td>1772066098_A12</td>\n",
       "      <td>endothelial-mural</td>\n",
       "      <td>1493</td>\n",
       "      <td>2896.0</td>\n",
       "      <td>endothelial-mural</td>\n",
       "      <td>1493</td>\n",
       "      <td>0.0</td>\n",
       "      <td>0.0</td>\n",
       "    </tr>\n",
       "    <tr>\n",
       "      <th>1772058148_F03</th>\n",
       "      <td>1772058148_F03</td>\n",
       "      <td>endothelial-mural</td>\n",
       "      <td>1775</td>\n",
       "      <td>4460.0</td>\n",
       "      <td>endothelial-mural</td>\n",
       "      <td>1775</td>\n",
       "      <td>0.0</td>\n",
       "      <td>0.0</td>\n",
       "    </tr>\n",
       "  </tbody>\n",
       "</table>\n",
       "<p>3005 rows × 8 columns</p>\n",
       "</div>"
      ],
      "text/plain": [
       "                       cell_id        level1class  n_genes_by_counts  \\\n",
       "cell_id                                                                \n",
       "1772071015_C02  1772071015_C02       interneurons               4848   \n",
       "1772071017_G12  1772071017_G12       interneurons               4684   \n",
       "1772071017_A05  1772071017_A05       interneurons               6026   \n",
       "1772071014_B06  1772071014_B06       interneurons               5824   \n",
       "1772067065_H06  1772067065_H06       interneurons               4700   \n",
       "...                        ...                ...                ...   \n",
       "1772067059_B04  1772067059_B04  endothelial-mural               2220   \n",
       "1772066097_D04  1772066097_D04  endothelial-mural               1428   \n",
       "1772063068_D01  1772063068_D01  endothelial-mural               1976   \n",
       "1772066098_A12  1772066098_A12  endothelial-mural               1493   \n",
       "1772058148_F03  1772058148_F03  endothelial-mural               1775   \n",
       "\n",
       "                total_counts              label  n_genes  total_counts_mt  \\\n",
       "cell_id                                                                     \n",
       "1772071015_C02       21580.0       interneurons     4848              0.0   \n",
       "1772071017_G12       21747.0       interneurons     4685              0.0   \n",
       "1772071017_A05       31640.0       interneurons     6028              0.0   \n",
       "1772071014_B06       32914.0       interneurons     5824              0.0   \n",
       "1772067065_H06       21528.0       interneurons     4701              0.0   \n",
       "...                      ...                ...      ...              ...   \n",
       "1772067059_B04        4584.0  endothelial-mural     2221              0.0   \n",
       "1772066097_D04        2559.0  endothelial-mural     1428              0.0   \n",
       "1772063068_D01        4014.0  endothelial-mural     1977              0.0   \n",
       "1772066098_A12        2896.0  endothelial-mural     1493              0.0   \n",
       "1772058148_F03        4460.0  endothelial-mural     1775              0.0   \n",
       "\n",
       "                pct_counts_mt  \n",
       "cell_id                        \n",
       "1772071015_C02            0.0  \n",
       "1772071017_G12            0.0  \n",
       "1772071017_A05            0.0  \n",
       "1772071014_B06            0.0  \n",
       "1772067065_H06            0.0  \n",
       "...                       ...  \n",
       "1772067059_B04            0.0  \n",
       "1772066097_D04            0.0  \n",
       "1772063068_D01            0.0  \n",
       "1772066098_A12            0.0  \n",
       "1772058148_F03            0.0  \n",
       "\n",
       "[3005 rows x 8 columns]"
      ]
     },
     "execution_count": 254,
     "metadata": {},
     "output_type": "execute_result"
    }
   ],
   "source": [
    "adata.obs"
   ]
  },
  {
   "cell_type": "code",
   "execution_count": 255,
   "id": "399195af",
   "metadata": {},
   "outputs": [],
   "source": [
    "clusters = adata.obs['label'].values #klein\n",
    "#clusters = adata.obs.level1class.values #zeisel"
   ]
  },
  {
   "cell_type": "code",
   "execution_count": 256,
   "id": "32ab7904",
   "metadata": {},
   "outputs": [],
   "source": [
    "import copy\n",
    "adata_pred = sc.AnnData(copy.deepcopy(result.cpu().numpy()))"
   ]
  },
  {
   "cell_type": "code",
   "execution_count": 257,
   "id": "091852b8",
   "metadata": {},
   "outputs": [
    {
     "name": "stdout",
     "output_type": "stream",
     "text": [
      "(3005, 2001)\n"
     ]
    },
    {
     "name": "stderr",
     "output_type": "stream",
     "text": [
      "D:\\Anaconda3\\envs\\PyTorch\\lib\\site-packages\\scanpy\\preprocessing\\_highly_variable_genes.py:269: UserWarning: `n_top_genes` > number of normalized dispersions, returning all genes with normalized dispersions.\n",
      "  warnings.warn(\n",
      "D:\\Anaconda3\\envs\\PyTorch\\lib\\site-packages\\scanpy\\preprocessing\\_simple.py:843: UserWarning: Received a view of an AnnData. Making a copy.\n",
      "  view_to_actual(adata)\n"
     ]
    }
   ],
   "source": [
    "sc.pp.normalize_total(adata_pred)\n",
    "sc.pp.log1p(adata_pred)\n",
    "sc.pp.highly_variable_genes(adata_pred, n_top_genes=2000)\n",
    "adata_pred = adata_pred[:, adata_pred.var.highly_variable]\n",
    "print(adata_pred.X.shape)\n",
    "sc.pp.scale(adata_pred, max_value=10)"
   ]
  },
  {
   "cell_type": "code",
   "execution_count": 258,
   "id": "d7eaded9",
   "metadata": {},
   "outputs": [],
   "source": [
    "adata_pred.obs['label']=adata.obs['label'].values "
   ]
  },
  {
   "cell_type": "code",
   "execution_count": 259,
   "id": "9c030625",
   "metadata": {},
   "outputs": [
    {
     "data": {
      "text/html": [
       "<div>\n",
       "<style scoped>\n",
       "    .dataframe tbody tr th:only-of-type {\n",
       "        vertical-align: middle;\n",
       "    }\n",
       "\n",
       "    .dataframe tbody tr th {\n",
       "        vertical-align: top;\n",
       "    }\n",
       "\n",
       "    .dataframe thead th {\n",
       "        text-align: right;\n",
       "    }\n",
       "</style>\n",
       "<table border=\"1\" class=\"dataframe\">\n",
       "  <thead>\n",
       "    <tr style=\"text-align: right;\">\n",
       "      <th></th>\n",
       "      <th>label</th>\n",
       "    </tr>\n",
       "  </thead>\n",
       "  <tbody>\n",
       "    <tr>\n",
       "      <th>0</th>\n",
       "      <td>interneurons</td>\n",
       "    </tr>\n",
       "    <tr>\n",
       "      <th>1</th>\n",
       "      <td>interneurons</td>\n",
       "    </tr>\n",
       "    <tr>\n",
       "      <th>2</th>\n",
       "      <td>interneurons</td>\n",
       "    </tr>\n",
       "    <tr>\n",
       "      <th>3</th>\n",
       "      <td>interneurons</td>\n",
       "    </tr>\n",
       "    <tr>\n",
       "      <th>4</th>\n",
       "      <td>interneurons</td>\n",
       "    </tr>\n",
       "    <tr>\n",
       "      <th>...</th>\n",
       "      <td>...</td>\n",
       "    </tr>\n",
       "    <tr>\n",
       "      <th>3000</th>\n",
       "      <td>endothelial-mural</td>\n",
       "    </tr>\n",
       "    <tr>\n",
       "      <th>3001</th>\n",
       "      <td>endothelial-mural</td>\n",
       "    </tr>\n",
       "    <tr>\n",
       "      <th>3002</th>\n",
       "      <td>endothelial-mural</td>\n",
       "    </tr>\n",
       "    <tr>\n",
       "      <th>3003</th>\n",
       "      <td>endothelial-mural</td>\n",
       "    </tr>\n",
       "    <tr>\n",
       "      <th>3004</th>\n",
       "      <td>endothelial-mural</td>\n",
       "    </tr>\n",
       "  </tbody>\n",
       "</table>\n",
       "<p>3005 rows × 1 columns</p>\n",
       "</div>"
      ],
      "text/plain": [
       "                  label\n",
       "0          interneurons\n",
       "1          interneurons\n",
       "2          interneurons\n",
       "3          interneurons\n",
       "4          interneurons\n",
       "...                 ...\n",
       "3000  endothelial-mural\n",
       "3001  endothelial-mural\n",
       "3002  endothelial-mural\n",
       "3003  endothelial-mural\n",
       "3004  endothelial-mural\n",
       "\n",
       "[3005 rows x 1 columns]"
      ]
     },
     "execution_count": 259,
     "metadata": {},
     "output_type": "execute_result"
    }
   ],
   "source": [
    "adata_pred.obs"
   ]
  },
  {
   "cell_type": "code",
   "execution_count": 260,
   "id": "1b8a2828",
   "metadata": {},
   "outputs": [],
   "source": [
    "sc.tl.pca(adata_pred, svd_solver='arpack')\n",
    "sc.pp.neighbors(adata_pred, n_neighbors=30, n_pcs=40)\n",
    "sc.tl.umap(adata_pred)"
   ]
  },
  {
   "cell_type": "code",
   "execution_count": 271,
   "id": "9ef8a3b9",
   "metadata": {},
   "outputs": [
    {
     "name": "stderr",
     "output_type": "stream",
     "text": [
      "D:\\Anaconda3\\envs\\PyTorch\\lib\\site-packages\\scanpy\\plotting\\_tools\\scatterplots.py:392: UserWarning: No data for colormapping provided via 'c'. Parameters 'cmap' will be ignored\n",
      "  cax = scatter(\n"
     ]
    },
    {
     "data": {
      "image/png": "[encoded data removed]",
      "text/plain": [
       "<Figure size 640x480 with 1 Axes>"
      ]
     },
     "metadata": {},
     "output_type": "display_data"
    }
   ],
   "source": [
    "sc.pl.umap(adata_pred, color=['label'], title='scE2EGAE', frameon=True)"
   ]
  },
  {
   "cell_type": "code",
   "execution_count": 262,
   "id": "5110939b",
   "metadata": {},
   "outputs": [
    {
     "name": "stdout",
     "output_type": "stream",
     "text": [
      "Current best score:  0.6258 0.6934 0.24758796\n",
      "Current best score:  0.8816 0.8337 0.5325552\n",
      "Current best score:  0.8816 0.8337 0.5325552\n",
      "Current best score:  0.8816 0.8337 0.5325552\n",
      "Current best score:  0.8816 0.8337 0.5325552\n",
      "Current best score:  0.8816 0.8337 0.5325552\n",
      "Current best score:  0.8816 0.8337 0.5325552\n",
      "Current best score:  0.8816 0.8337 0.5325552\n",
      "Current best score:  0.8816 0.8337 0.5325552\n",
      "Current best score:  0.8816 0.8337 0.5325552\n",
      "Best seed: 8997\n",
      "Best ARI: 0.8816\n",
      "Best NMI: 0.8337\n",
      "Best Silhouette Score: 0.5325552\n",
      "CPU times: total: 14min 16s\n",
      "Wall time: 2min 6s\n"
     ]
    }
   ],
   "source": [
    "%%time\n",
    "from sklearn.metrics import silhouette_score\n",
    "best_ari = -np.inf  \n",
    "best_nmi = -np.inf  \n",
    "best_silhouette = -np.inf  \n",
    "best_seed = None \n",
    "use_umap = False\n",
    "  \n",
    "for _ in range(500):  \n",
    "    random_seed = np.random.randint(0, 10000)  \n",
    "    \n",
    "    if use_umap==True:\n",
    "        kmeans = KMeans(n_clusters=len(set(clusters)), n_init=1, random_state=random_seed).fit(adata_pred.obsm['X_umap']) \n",
    "    else:\n",
    "        kmeans = KMeans(n_clusters=len(set(clusters)), n_init=1, random_state=random_seed).fit(adata_pred.X) \n",
    "    \n",
    "    ari = float('%.4f' % adjusted_rand_score(clusters, kmeans.labels_))  \n",
    "    nmi = float('%.4f' % normalized_mutual_info_score(clusters, kmeans.labels_))  \n",
    "    silhouette = silhouette_score(adata_pred.obsm['X_umap'], kmeans.labels_)  \n",
    "      \n",
    "    if ari > best_ari or (ari == best_ari and nmi > best_nmi):  \n",
    "        best_ari = ari  \n",
    "        best_nmi = nmi  \n",
    "        best_silhouette = silhouette  \n",
    "        best_seed = random_seed  \n",
    "    if _%50==0:\n",
    "        print('Current best score: ', best_ari, best_nmi, best_silhouette)\n",
    "  \n",
    "print(\"Best seed:\", best_seed)  \n",
    "print(\"Best ARI:\", best_ari)  \n",
    "print(\"Best NMI:\", best_nmi)  \n",
    "print(\"Best Silhouette Score:\", best_silhouette)"
   ]
  },
  {
   "cell_type": "code",
   "execution_count": 263,
   "id": "88c8e762",
   "metadata": {},
   "outputs": [
    {
     "name": "stdout",
     "output_type": "stream",
     "text": [
      "mse:  138.4046\n",
      "mae:  0.5811\n",
      "pcc:  0.9198\n",
      "cs:  0.9216\n",
      "ari:  0.8816\n",
      "nmi:  0.8337\n",
      "silhouette score:  0.5325552\n"
     ]
    }
   ],
   "source": [
    "print(\"mse: \", mse)\n",
    "print(\"mae: \", mae)\n",
    "print(\"pcc: \", pcc)\n",
    "print(\"cs: \", cs)\n",
    "print(\"ari: \", best_ari)\n",
    "print(\"nmi: \", best_nmi)\n",
    "print(\"silhouette score: \", best_silhouette)"
   ]
  },
  {
   "cell_type": "markdown",
   "id": "f71ed9be",
   "metadata": {},
   "source": [
    "### Save denoised data to disk"
   ]
  },
  {
   "cell_type": "code",
   "execution_count": 290,
   "id": "579207f1",
   "metadata": {},
   "outputs": [
    {
     "data": {
      "text/plain": [
       "((3005, 2001), dtype('float32'))"
      ]
     },
     "execution_count": 290,
     "metadata": {},
     "output_type": "execute_result"
    }
   ],
   "source": [
    "result.cpu().numpy().shape, result.cpu().numpy().dtype"
   ]
  },
  {
   "cell_type": "code",
   "execution_count": 291,
   "id": "6267fca5",
   "metadata": {},
   "outputs": [],
   "source": [
    "import scipy.io as sio\n",
    "from scipy.sparse import csr_matrix "
   ]
  },
  {
   "cell_type": "code",
   "execution_count": 1439,
   "id": "ccd81bb7",
   "metadata": {},
   "outputs": [],
   "source": [
    "sio.mmwrite('./predicted_data/sce2egae/%s/%s00_top2000_e2enew.mtx'%(dataset, dataset),csr_matrix(result.cpu().numpy().T))"
   ]
  },
  {
   "cell_type": "code",
   "execution_count": null,
   "id": "cc10bf42",
   "metadata": {},
   "outputs": [],
   "source": []
  }
 ],
 "metadata": {
  "kernelspec": {
   "display_name": "Python 3 (ipykernel)",
   "language": "python",
   "name": "python3"
  },
  "language_info": {
   "codemirror_mode": {
    "name": "ipython",
    "version": 3
   },
   "file_extension": ".py",
   "mimetype": "text/x-python",
   "name": "python",
   "nbconvert_exporter": "python",
   "pygments_lexer": "ipython3",
   "version": "3.9.13"
  }
 },
 "nbformat": 4,
 "nbformat_minor": 5
}
